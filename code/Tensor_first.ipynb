{
 "cells": [
  {
   "cell_type": "code",
   "execution_count": 1,
   "id": "2bf28403",
   "metadata": {},
   "outputs": [],
   "source": [
    "import numpy as np\n",
    "import pandas as pd\n",
    "import itertools"
   ]
  },
  {
   "cell_type": "code",
   "execution_count": 2,
   "id": "f85c3865",
   "metadata": {},
   "outputs": [],
   "source": [
    "da = pd.read_parquet('data/de_train.parquet') #  data_de_train"
   ]
  },
  {
   "cell_type": "markdown",
   "id": "79b0efa4",
   "metadata": {},
   "source": [
    "#### create 2 dim matrix which has the n,m,l in column: n: drugs; m: genes; l: cell types"
   ]
  },
  {
   "cell_type": "code",
   "execution_count": 3,
   "id": "4815123f",
   "metadata": {},
   "outputs": [],
   "source": [
    "columns = da.columns\n",
    "selected_columns = columns[:2].append(columns[5:])\n",
    "# selected_columns\n",
    "# new matrix\n",
    "Z_2D = da.loc[:,selected_columns]"
   ]
  },
  {
   "cell_type": "markdown",
   "id": "60a9a8c2",
   "metadata": {},
   "source": [
    "#### change the 2-dim matrix Z_2D to a 3-dim tensor"
   ]
  },
  {
   "cell_type": "code",
   "execution_count": 4,
   "id": "0a6544e6",
   "metadata": {},
   "outputs": [],
   "source": [
    "# Getting unique values\n",
    "sm_names = Z_2D[\"sm_name\"].unique()\n",
    "cell_types = Z_2D[\"cell_type\"].unique()\n",
    "\n",
    "# Generating all combinations\n",
    "combinations = pd.DataFrame(list(itertools.product(cell_types, sm_names)), columns=[\"cell_type\", \"sm_name\"])\n",
    "\n",
    "\n",
    "# Merging the combinations with Z_2D\n",
    "result = pd.merge(combinations, Z_2D, on=['cell_type', 'sm_name'], how='outer')"
   ]
  },
  {
   "cell_type": "code",
   "execution_count": 5,
   "id": "0bc754fa",
   "metadata": {},
   "outputs": [
    {
     "data": {
      "text/plain": [
       "['B cells',\n",
       " 'Myeloid cells',\n",
       " 'NK cells',\n",
       " 'T cells CD4+',\n",
       " 'T cells CD8+',\n",
       " 'T regulatory cells']"
      ]
     },
     "execution_count": 5,
     "metadata": {},
     "output_type": "execute_result"
    }
   ],
   "source": [
    "cell_type_order = result['cell_type'].drop_duplicates().sort_values().tolist()\n",
    "cell_type_order"
   ]
  },
  {
   "cell_type": "code",
   "execution_count": 6,
   "id": "54f01b81",
   "metadata": {},
   "outputs": [],
   "source": [
    "sm_name_order = result['sm_name'].drop_duplicates().sort_values().tolist()\n",
    "# sm_name_order "
   ]
  },
  {
   "cell_type": "code",
   "execution_count": 7,
   "id": "0e9a609e",
   "metadata": {},
   "outputs": [],
   "source": [
    "# Sorting by 'sm_name' and 'cell_type'\n",
    "result_sorted = result.sort_values(by=['cell_type', 'sm_name'])\n",
    "\n",
    "\n",
    "# Dropping or setting 'sm_name' and 'cell_type' as index\n",
    "result_sorted = result_sorted.set_index(['cell_type', 'sm_name'])\n",
    "\n",
    "# Converting to 3D numpy array\n",
    "tensor_3D = result_sorted.values.reshape(len(sm_names), -1, len(cell_types))\n",
    "\n",
    "# Note: The '-1' in the reshape function means that this dimension is inferred from the length of the array.\n"
   ]
  },
  {
   "cell_type": "code",
   "execution_count": 8,
   "id": "2faf8464",
   "metadata": {},
   "outputs": [],
   "source": [
    "def matricize(R, mode):\n",
    "    if mode == 1:\n",
    "        return R.reshape(R.shape[0], -1)\n",
    "    elif mode == 2:\n",
    "        return np.moveaxis(R, 1, 0).reshape(R.shape[1], -1)\n",
    "    else:\n",
    "        raise ValueError(\"Mode must be either 1 or 2\")"
   ]
  },
  {
   "cell_type": "code",
   "execution_count": 9,
   "id": "f1d53c95",
   "metadata": {},
   "outputs": [],
   "source": [
    "def nan_positions(matrix):\n",
    "\n",
    "    nan_positions = np.argwhere(np.isnan(matrix))\n",
    "    \n",
    "    return nan_positions\n",
    "\n",
    "nan_positions_tensor = nan_positions(tensor_3D)"
   ]
  },
  {
   "cell_type": "code",
   "execution_count": 10,
   "id": "87adfef4",
   "metadata": {},
   "outputs": [],
   "source": [
    "# def fill_nan_randomly(matrix):\n",
    "#     # 获取所有非nan的值\n",
    "#     non_nan_values = matrix[~np.isnan(matrix)]\n",
    "    \n",
    "# #     # 获取所有nan的位置\n",
    "# #     nan_positions = np.argwhere(np.isnan(matrix))\n",
    "    \n",
    "#     # 对每一个nan的位置，随机选择一个非nan的值进行填充\n",
    "#     for pos in nan_positions_tensor:\n",
    "#         matrix[tuple(pos)] = np.random.choice(non_nan_values)\n",
    "    \n",
    "#     return matrix\n",
    "\n",
    "# warm_start = fill_nan_randomly(tensor_3D)"
   ]
  },
  {
   "cell_type": "code",
   "execution_count": 11,
   "id": "1b6b0b63",
   "metadata": {},
   "outputs": [
    {
     "data": {
      "text/plain": [
       "(146, 18211, 6)"
      ]
     },
     "execution_count": 11,
     "metadata": {},
     "output_type": "execute_result"
    }
   ],
   "source": [
    "def fill_zero_randomly(matrix):\n",
    "    # 获取所有nan的位置\n",
    "    nan_positions = np.argwhere(np.isnan(matrix))\n",
    "    \n",
    "    # 对每一个nan的位置，随机选择一个非nan的值进行填充\n",
    "    for pos in nan_positions:\n",
    "        matrix[tuple(pos)] = 0\n",
    "    \n",
    "    return matrix\n",
    "warm_start = fill_zero_randomly(tensor_3D)\n",
    "warm_start.shape"
   ]
  },
  {
   "cell_type": "markdown",
   "id": "346390b5",
   "metadata": {},
   "source": [
    "#### renew slice alg"
   ]
  },
  {
   "cell_type": "code",
   "execution_count": 12,
   "id": "0c372f78",
   "metadata": {},
   "outputs": [],
   "source": [
    "def truncate_svd(matrix, r):\n",
    "    # 使用numpy进行SVD分解\n",
    "    U, Sigma, Vt = np.linalg.svd(matrix, full_matrices=False)\n",
    "\n",
    "    # 取前r个特征向量\n",
    "    U_r = U[:, :r]\n",
    "    Sigma_r = np.diag(Sigma[:r])\n",
    "    Vt_r = Vt[:r, :]\n",
    "    \n",
    "    return U_r"
   ]
  },
  {
   "cell_type": "code",
   "execution_count": 13,
   "id": "0f068702",
   "metadata": {},
   "outputs": [],
   "source": [
    "# def tensor_completion_als(Z, r, T):\n",
    "#     n, m, l = Z.shape\n",
    "#     U = np.random.rand(n, r)\n",
    "#     V = np.random.rand(m, r)\n",
    "#     S = np.array([np.eye(r) for _ in range(l)])\n",
    "    \n",
    "#     Z_hat = Z\n",
    "\n",
    "#     for t in range(T):\n",
    "#         # Fix V, update U\n",
    "#         Z_1 = matricize(Z_hat, 1)\n",
    "#         Z_2 = matricize(Z_hat, 2)\n",
    "        \n",
    "        \n",
    "#         U_full, Sigma, Vt_full = np.linalg.svd(Z_1 , full_matrices=False)\n",
    "#         U = U_full[:, :r]   \n",
    "#         print(\"U\")\n",
    "#         print(U.shape)\n",
    "#         # Fix U, update V\n",
    "#         U_full, Sigma, Vt_full = np.linalg.svd(Z_2 , full_matrices=False)\n",
    "#         V = U_full[:, :r]  \n",
    "#         print(\"V\")\n",
    "#         print(V.shape)\n",
    "        \n",
    "#         print(Z.shape)\n",
    "#         # Fix U and V, update S_k for each k\n",
    "#         for k in range(l):\n",
    "#             S[k] = U.T @ Z_hat[:, :, k] @ V\n",
    "        \n",
    "#         # Calculate Z_hat\n",
    "        \n",
    "#         for k in range(l):\n",
    "#             Z_hat[:, :, k] = U @ S[k] @ V.T\n",
    "    \n",
    "#     return Z_hat"
   ]
  },
  {
   "cell_type": "code",
   "execution_count": 14,
   "id": "03697850",
   "metadata": {},
   "outputs": [],
   "source": [
    "# def tensor_completion_als(Z, r, T):\n",
    "#     n, m, l = Z.shape\n",
    "#     U = np.random.rand(n, r)\n",
    "#     V = np.random.rand(m, r)\n",
    "#     S = np.array([np.eye(r) for _ in range(l)])\n",
    "    \n",
    "#     for t in range(T):\n",
    "#         # Fix V, update U\n",
    "#         for i in range(n):\n",
    "#             VVT = V.T @ V\n",
    "#             for k in range(l):\n",
    "#                 U[i, :] = np.linalg.solve(VVT + np.eye(r), Z[i, :, k] @ V)\n",
    "                \n",
    "#         # Fix U, update V\n",
    "#         for j in range(m):\n",
    "#             UUT = U.T @ U\n",
    "#             for k in range(l):\n",
    "#                 V[j, :] = np.linalg.solve(UUT + np.eye(r), Z[:, j, k] @ U)\n",
    "                \n",
    "#         # Fix U and V, update S_k for each k\n",
    "#         for k in range(l):\n",
    "#             S[k] = U.T @ Z[:, :, k] @ V\n",
    "        \n",
    "#         # Calculate Z_hat\n",
    "#         Z_hat = np.zeros((n, m, l))\n",
    "#         for k in range(l):\n",
    "#             Z_hat[:, :, k] = U @ S[k] @ V.\n",
    "    \n",
    "#     return Z_hat"
   ]
  },
  {
   "cell_type": "code",
   "execution_count": 15,
   "id": "eee2457d",
   "metadata": {},
   "outputs": [],
   "source": [
    "def tensor_completion_als(Z, r, T):\n",
    "    n, m, l = Z.shape\n",
    "    U = np.random.rand(n, r)\n",
    "    V = np.random.rand(m, r)\n",
    "    S = np.array([np.eye(r) for _ in range(l)])\n",
    "    \n",
    "    Z_hat = Z\n",
    "\n",
    "    for t in range(T):\n",
    "        print(t)\n",
    "        # Fix V, update U\n",
    "        Z_1 = matricize(Z_hat, 1)\n",
    "        Z_2 = matricize(Z_hat, 2)\n",
    "           \n",
    "        U_full, Sigma, Vt_full = np.linalg.svd(Z_1 , full_matrices=False)\n",
    "        U = U_full[:, :r]   \n",
    "\n",
    "        # Fix U, update V\n",
    "        U_full, Sigma, Vt_full = np.linalg.svd(Z_2 , full_matrices=False)\n",
    "        V = U_full[:, :r]  \n",
    "\n",
    "        # Fix U and V, update S_k for each k\n",
    "        for k in range(l):\n",
    "            S[k] = U.T @ Z_hat[:, :, k] @ V\n",
    "        \n",
    "        # Calculate Z_hat\n",
    "        new_Z = U @ S[k] @ V.T\n",
    "        for pos in nan_positions_tensor:\n",
    "\n",
    "            if tuple(pos)[2] == k:\n",
    "                Z_hat[tuple(pos)] = new_Z[tuple(pos)[0:2]]\n",
    "    \n",
    "    return Z_hat\n",
    "\n"
   ]
  },
  {
   "cell_type": "code",
   "execution_count": 16,
   "id": "3612fa60",
   "metadata": {},
   "outputs": [
    {
     "name": "stdout",
     "output_type": "stream",
     "text": [
      "0\n",
      "1\n",
      "2\n",
      "3\n",
      "4\n",
      "5\n",
      "6\n",
      "7\n",
      "8\n",
      "9\n",
      "10\n",
      "11\n",
      "12\n",
      "13\n",
      "14\n",
      "15\n",
      "16\n",
      "17\n",
      "18\n",
      "19\n",
      "20\n",
      "21\n",
      "22\n",
      "23\n",
      "24\n",
      "25\n",
      "26\n",
      "27\n",
      "28\n",
      "29\n",
      "30\n",
      "31\n",
      "32\n",
      "33\n",
      "34\n",
      "35\n",
      "36\n",
      "37\n",
      "38\n",
      "39\n",
      "40\n",
      "41\n",
      "42\n",
      "43\n",
      "44\n",
      "45\n",
      "46\n",
      "47\n",
      "48\n",
      "49\n"
     ]
    }
   ],
   "source": [
    "completed_Z = tensor_completion_als(warm_start, 20, 50)\n",
    "# print(completed_Z)"
   ]
  },
  {
   "cell_type": "code",
   "execution_count": 17,
   "id": "124f82d6",
   "metadata": {},
   "outputs": [],
   "source": [
    "B_cell = completed_Z[:,:,0]"
   ]
  },
  {
   "cell_type": "code",
   "execution_count": 18,
   "id": "df80b95b",
   "metadata": {},
   "outputs": [],
   "source": [
    "Myeloid_cell = completed_Z[:,:,1]"
   ]
  },
  {
   "cell_type": "code",
   "execution_count": 19,
   "id": "af6344ad",
   "metadata": {},
   "outputs": [],
   "source": [
    "df_b_cell = pd.DataFrame(B_cell)\n",
    "df_myeloid_cell = pd.DataFrame(Myeloid_cell)\n",
    "\n",
    "# 设置行名\n",
    "df_b_cell.index = sm_names\n",
    "df_myeloid_cell.index = sm_names"
   ]
  },
  {
   "cell_type": "code",
   "execution_count": 20,
   "id": "55c09e46",
   "metadata": {},
   "outputs": [
    {
     "data": {
      "text/plain": [
       "['B cells',\n",
       " 'Myeloid cells',\n",
       " 'NK cells',\n",
       " 'T cells CD4+',\n",
       " 'T cells CD8+',\n",
       " 'T regulatory cells']"
      ]
     },
     "execution_count": 20,
     "metadata": {},
     "output_type": "execute_result"
    }
   ],
   "source": [
    "cell_type_order\n",
    "# sm_name_order"
   ]
  },
  {
   "cell_type": "code",
   "execution_count": 21,
   "id": "2d397c84",
   "metadata": {},
   "outputs": [],
   "source": [
    "df_b_cell['cell_type'] = 'B cells'\n",
    "df_myeloid_cell['cell_type'] = 'Myeloid cells'\n",
    "\n",
    "# 使用pd.concat将两个DataFrame合并\n",
    "result_df = pd.concat([df_b_cell, df_myeloid_cell], axis=0)\n",
    "\n",
    "result_df['sm_name'] = result_df.index\n",
    "result_df = result_df.reset_index(drop=True)\n"
   ]
  },
  {
   "cell_type": "markdown",
   "id": "e0d92453",
   "metadata": {},
   "source": [
    "#### read in id file and create for submission"
   ]
  },
  {
   "cell_type": "code",
   "execution_count": 22,
   "id": "6fa54d10",
   "metadata": {},
   "outputs": [],
   "source": [
    "submission = pd.read_csv('data/sample_submission.csv') #  提交\n",
    "id_pair = pd.read_csv('data/id_map.csv') #  每个id对应的药物与细胞类型\n",
    "id_col = [\"cell_type\", \"sm_name\"]\n",
    "\n",
    "new_id = id_pair.loc[:,id_col]\n",
    "tensor_id = result_df.loc[:,id_col]\n",
    "# new_id = pd.get_dummies(new_id, columns=new_id.columns)"
   ]
  },
  {
   "cell_type": "code",
   "execution_count": 23,
   "id": "58d3e4b8",
   "metadata": {},
   "outputs": [],
   "source": [
    "for i in range(new_id.shape[0]):\n",
    "    q = False\n",
    "    for j in range(tensor_id.shape[0]):\n",
    "        if all(new_id.iloc[i,:] == tensor_id.iloc[j,:]):  # This checks if all elements in a row match\n",
    "            submission.iloc[i,1:] = result_df.iloc[j,0:18211]\n",
    "            break  # Exit the inner loop once a match is found\n"
   ]
  },
  {
   "cell_type": "code",
   "execution_count": 24,
   "id": "39790c91",
   "metadata": {},
   "outputs": [],
   "source": [
    "submission.to_csv('tensor_3.csv', index=False)"
   ]
  },
  {
   "cell_type": "code",
   "execution_count": 25,
   "id": "95ed6bc8",
   "metadata": {},
   "outputs": [
    {
     "data": {
      "text/plain": [
       "(255, 18212)"
      ]
     },
     "execution_count": 25,
     "metadata": {},
     "output_type": "execute_result"
    }
   ],
   "source": [
    "submission.shape"
   ]
  },
  {
   "cell_type": "code",
   "execution_count": 4,
   "id": "648a6e09",
   "metadata": {},
   "outputs": [
    {
     "name": "stdout",
     "output_type": "stream",
     "text": [
      "Found Gene IDs: ['132901555', '132899599', '132895711', '132895683', '132895399', '132894635', '132891449', '132874090', '132873836', '132868918', '132866052', '7157', '1956', '7422', '3569', '7040', '22059', '4524', '3091', '2064']\n",
      "[{'Entrezgene_track-info': {'Gene-track': {'Gene-track_geneid': '132901555', 'Gene-track_status': StringElement('0', attributes={'value': 'live'}), 'Gene-track_create-date': {'Date': {'Date_std': {'Date-std': {'Date-std_year': '2023', 'Date-std_month': '11', 'Date-std_day': '13'}}}}, 'Gene-track_update-date': {'Date': {'Date_std': {'Date-std': {'Date-std_year': '2023', 'Date-std_month': '11', 'Date-std_day': '14'}}}}}}, 'Entrezgene_type': StringElement('6', attributes={'value': 'protein-coding'}), 'Entrezgene_source': {'BioSource': {'BioSource_genome': StringElement('1', attributes={'value': 'genomic'}), 'BioSource_origin': StringElement('1', attributes={'value': 'natural'}), 'BioSource_org': {'Org-ref': {'Org-ref_taxname': 'Neoarius graeffei', 'Org-ref_common': 'lesser salmon catfish', 'Org-ref_db': [{'Dbtag_db': 'taxon', 'Dbtag_tag': {'Object-id': {'Object-id_id': '443677'}}}], 'Org-ref_orgname': {'OrgName': {'OrgName_name': {'OrgName_name_binomial': {'BinomialOrgName': {'BinomialOrgName_genus': 'Neoarius', 'BinomialOrgName_species': 'graeffei'}}}, 'OrgName_attrib': 'specified', 'OrgName_lineage': 'Eukaryota; Metazoa; Chordata; Craniata; Vertebrata; Euteleostomi; Actinopterygii; Neopterygii; Teleostei; Ostariophysi; Siluriformes; Ariidae; Neoarius', 'OrgName_gcode': '1', 'OrgName_mgcode': '2', 'OrgName_div': 'VRT'}}}}, 'BioSource_subtype': [{'SubSource_subtype': StringElement('1', attributes={'value': 'chromosome'}), 'SubSource_name': '17'}]}}, 'Entrezgene_gene': {'Gene-ref': {'Gene-ref_locus': 'brip1', 'Gene-ref_desc': 'BRCA1 interacting helicase 1'}}, 'Entrezgene_prot': {'Prot-ref': {'Prot-ref_desc': 'Fanconi anemia group J protein'}}, 'Entrezgene_gene-source': {'Gene-source': {'Gene-source_src': 'LocusLink', 'Gene-source_src-int': '132901555', 'Gene-source_src-str2': '132901555'}}, 'Entrezgene_locus': [{'Gene-commentary_type': StringElement('1', attributes={'value': 'genomic'}), 'Gene-commentary_heading': 'Reference fNeoGra1.pri', 'Gene-commentary_label': 'Chromosome 17 Reference fNeoGra1.pri', 'Gene-commentary_accession': 'NC_083585', 'Gene-commentary_version': '1', 'Gene-commentary_seqs': [{'Seq-loc_int': {'Seq-interval': {'Seq-interval_from': '32092796', 'Seq-interval_to': '32170049', 'Seq-interval_strand': {'Na-strand': StringElement('', attributes={'value': 'plus'})}, 'Seq-interval_id': {'Seq-id': {'Seq-id_gi': '2619141560'}}}}}], 'Gene-commentary_products': [{'Gene-commentary_type': StringElement('3', attributes={'value': 'mRNA'}), 'Gene-commentary_heading': 'Reference', 'Gene-commentary_label': 'transcript variant X2', 'Gene-commentary_accession': 'XM_060944024', 'Gene-commentary_version': '1', 'Gene-commentary_genomic-coords': [{'Seq-loc_mix': {'Seq-loc-mix': [{'Seq-loc_int': {'Seq-interval': {'Seq-interval_from': '32092796', 'Seq-interval_to': '32092860', 'Seq-interval_strand': {'Na-strand': StringElement('', attributes={'value': 'plus'})}, 'Seq-interval_id': {'Seq-id': {'Seq-id_gi': '2619141560'}}}}}, {'Seq-loc_int': {'Seq-interval': {'Seq-interval_from': '32101910', 'Seq-interval_to': '32102036', 'Seq-interval_strand': {'Na-strand': StringElement('', attributes={'value': 'plus'})}, 'Seq-interval_id': {'Seq-id': {'Seq-id_gi': '2619141560'}}}}}, {'Seq-loc_int': {'Seq-interval': {'Seq-interval_from': '32104008', 'Seq-interval_to': '32104119', 'Seq-interval_strand': {'Na-strand': StringElement('', attributes={'value': 'plus'})}, 'Seq-interval_id': {'Seq-id': {'Seq-id_gi': '2619141560'}}}}}, {'Seq-loc_int': {'Seq-interval': {'Seq-interval_from': '32109577', 'Seq-interval_to': '32109744', 'Seq-interval_strand': {'Na-strand': StringElement('', attributes={'value': 'plus'})}, 'Seq-interval_id': {'Seq-id': {'Seq-id_gi': '2619141560'}}}}}, {'Seq-loc_int': {'Seq-interval': {'Seq-interval_from': '32109850', 'Seq-interval_to': '32109995', 'Seq-interval_strand': {'Na-strand': StringElement('', attributes={'value': 'plus'})}, 'Seq-interval_id': {'Seq-id': {'Seq-id_gi': '2619141560'}}}}}, {'Seq-loc_int': {'Seq-interval': {'Seq-interval_from': '32110561', 'Seq-interval_to': '32110716', 'Seq-interval_strand': {'Na-strand': StringElement('', attributes={'value': 'plus'})}, 'Seq-interval_id': {'Seq-id': {'Seq-id_gi': '2619141560'}}}}}, {'Seq-loc_int': {'Seq-interval': {'Seq-interval_from': '32118904', 'Seq-interval_to': '32119200', 'Seq-interval_strand': {'Na-strand': StringElement('', attributes={'value': 'plus'})}, 'Seq-interval_id': {'Seq-id': {'Seq-id_gi': '2619141560'}}}}}, {'Seq-loc_int': {'Seq-interval': {'Seq-interval_from': '32121387', 'Seq-interval_to': '32121608', 'Seq-interval_strand': {'Na-strand': StringElement('', attributes={'value': 'plus'})}, 'Seq-interval_id': {'Seq-id': {'Seq-id_gi': '2619141560'}}}}}, {'Seq-loc_int': {'Seq-interval': {'Seq-interval_from': '32123533', 'Seq-interval_to': '32123732', 'Seq-interval_strand': {'Na-strand': StringElement('', attributes={'value': 'plus'})}, 'Seq-interval_id': {'Seq-id': {'Seq-id_gi': '2619141560'}}}}}, {'Seq-loc_int': {'Seq-interval': {'Seq-interval_from': '32124194', 'Seq-interval_to': '32124326', 'Seq-interval_strand': {'Na-strand': StringElement('', attributes={'value': 'plus'})}, 'Seq-interval_id': {'Seq-id': {'Seq-id_gi': '2619141560'}}}}}, {'Seq-loc_int': {'Seq-interval': {'Seq-interval_from': '32128525', 'Seq-interval_to': '32128679', 'Seq-interval_strand': {'Na-strand': StringElement('', attributes={'value': 'plus'})}, 'Seq-interval_id': {'Seq-id': {'Seq-id_gi': '2619141560'}}}}}, {'Seq-loc_int': {'Seq-interval': {'Seq-interval_from': '32129683', 'Seq-interval_to': '32129851', 'Seq-interval_strand': {'Na-strand': StringElement('', attributes={'value': 'plus'})}, 'Seq-interval_id': {'Seq-id': {'Seq-id_gi': '2619141560'}}}}}, {'Seq-loc_int': {'Seq-interval': {'Seq-interval_from': '32130017', 'Seq-interval_to': '32130157', 'Seq-interval_strand': {'Na-strand': StringElement('', attributes={'value': 'plus'})}, 'Seq-interval_id': {'Seq-id': {'Seq-id_gi': '2619141560'}}}}}, {'Seq-loc_int': {'Seq-interval': {'Seq-interval_from': '32130787', 'Seq-interval_to': '32130948', 'Seq-interval_strand': {'Na-strand': StringElement('', attributes={'value': 'plus'})}, 'Seq-interval_id': {'Seq-id': {'Seq-id_gi': '2619141560'}}}}}, {'Seq-loc_int': {'Seq-interval': {'Seq-interval_from': '32150423', 'Seq-interval_to': '32150582', 'Seq-interval_strand': {'Na-strand': StringElement('', attributes={'value': 'plus'})}, 'Seq-interval_id': {'Seq-id': {'Seq-id_gi': '2619141560'}}}}}, {'Seq-loc_int': {'Seq-interval': {'Seq-interval_from': '32151007', 'Seq-interval_to': '32151128', 'Seq-interval_strand': {'Na-strand': StringElement('', attributes={'value': 'plus'})}, 'Seq-interval_id': {'Seq-id': {'Seq-id_gi': '2619141560'}}}}}, {'Seq-loc_int': {'Seq-interval': {'Seq-interval_from': '32161126', 'Seq-interval_to': '32161238', 'Seq-interval_strand': {'Na-strand': StringElement('', attributes={'value': 'plus'})}, 'Seq-interval_id': {'Seq-id': {'Seq-id_gi': '2619141560'}}}}}, {'Seq-loc_int': {'Seq-interval': {'Seq-interval_from': '32161898', 'Seq-interval_to': '32161980', 'Seq-interval_strand': {'Na-strand': StringElement('', attributes={'value': 'plus'})}, 'Seq-interval_id': {'Seq-id': {'Seq-id_gi': '2619141560'}}}}}, {'Seq-loc_int': {'Seq-interval': {'Seq-interval_from': '32162362', 'Seq-interval_to': '32162619', 'Seq-interval_strand': {'Na-strand': StringElement('', attributes={'value': 'plus'})}, 'Seq-interval_id': {'Seq-id': {'Seq-id_gi': '2619141560'}}}}}, {'Seq-loc_int': {'Seq-interval': {'Seq-interval_from': '32167533', 'Seq-interval_to': '32170049', 'Seq-interval_strand': {'Na-strand': StringElement('', attributes={'value': 'plus'})}, 'Seq-interval_id': {'Seq-id': {'Seq-id_gi': '2619141560'}}}}}]}}], 'Gene-commentary_seqs': [{'Seq-loc_whole': {'Seq-id': {'Seq-id_gi': '2619890530'}}}], 'Gene-commentary_products': [{'Gene-commentary_type': StringElement('8', attributes={'value': 'peptide'}), 'Gene-commentary_heading': 'Reference', 'Gene-commentary_label': 'isoform X1', 'Gene-commentary_accession': 'XP_060800007', 'Gene-commentary_version': '1', 'Gene-commentary_genomic-coords': [{'Seq-loc_mix': {'Seq-loc-mix': [{'Seq-loc_int': {'Seq-interval': {'Seq-interval_from': '32101944', 'Seq-interval_to': '32102036', 'Seq-interval_strand': {'Na-strand': StringElement('', attributes={'value': 'plus'})}, 'Seq-interval_id': {'Seq-id': {'Seq-id_gi': '2619141560'}}}}}, {'Seq-loc_int': {'Seq-interval': {'Seq-interval_from': '32104008', 'Seq-interval_to': '32104119', 'Seq-interval_strand': {'Na-strand': StringElement('', attributes={'value': 'plus'})}, 'Seq-interval_id': {'Seq-id': {'Seq-id_gi': '2619141560'}}}}}, {'Seq-loc_int': {'Seq-interval': {'Seq-interval_from': '32109577', 'Seq-interval_to': '32109744', 'Seq-interval_strand': {'Na-strand': StringElement('', attributes={'value': 'plus'})}, 'Seq-interval_id': {'Seq-id': {'Seq-id_gi': '2619141560'}}}}}, {'Seq-loc_int': {'Seq-interval': {'Seq-interval_from': '32109850', 'Seq-interval_to': '32109995', 'Seq-interval_strand': {'Na-strand': StringElement('', attributes={'value': 'plus'})}, 'Seq-interval_id': {'Seq-id': {'Seq-id_gi': '2619141560'}}}}}, {'Seq-loc_int': {'Seq-interval': {'Seq-interval_from': '32110561', 'Seq-interval_to': '32110716', 'Seq-interval_strand': {'Na-strand': StringElement('', attributes={'value': 'plus'})}, 'Seq-interval_id': {'Seq-id': {'Seq-id_gi': '2619141560'}}}}}, {'Seq-loc_int': {'Seq-interval': {'Seq-interval_from': '32118904', 'Seq-interval_to': '32119200', 'Seq-interval_strand': {'Na-strand': StringElement('', attributes={'value': 'plus'})}, 'Seq-interval_id': {'Seq-id': {'Seq-id_gi': '2619141560'}}}}}, {'Seq-loc_int': {'Seq-interval': {'Seq-interval_from': '32121387', 'Seq-interval_to': '32121608', 'Seq-interval_strand': {'Na-strand': StringElement('', attributes={'value': 'plus'})}, 'Seq-interval_id': {'Seq-id': {'Seq-id_gi': '2619141560'}}}}}, {'Seq-loc_int': {'Seq-interval': {'Seq-interval_from': '32123533', 'Seq-interval_to': '32123732', 'Seq-interval_strand': {'Na-strand': StringElement('', attributes={'value': 'plus'})}, 'Seq-interval_id': {'Seq-id': {'Seq-id_gi': '2619141560'}}}}}, {'Seq-loc_int': {'Seq-interval': {'Seq-interval_from': '32124194', 'Seq-interval_to': '32124326', 'Seq-interval_strand': {'Na-strand': StringElement('', attributes={'value': 'plus'})}, 'Seq-interval_id': {'Seq-id': {'Seq-id_gi': '2619141560'}}}}}, {'Seq-loc_int': {'Seq-interval': {'Seq-interval_from': '32128525', 'Seq-interval_to': '32128679', 'Seq-interval_strand': {'Na-strand': StringElement('', attributes={'value': 'plus'})}, 'Seq-interval_id': {'Seq-id': {'Seq-id_gi': '2619141560'}}}}}, {'Seq-loc_int': {'Seq-interval': {'Seq-interval_from': '32129683', 'Seq-interval_to': '32129851', 'Seq-interval_strand': {'Na-strand': StringElement('', attributes={'value': 'plus'})}, 'Seq-interval_id': {'Seq-id': {'Seq-id_gi': '2619141560'}}}}}, {'Seq-loc_int': {'Seq-interval': {'Seq-interval_from': '32130017', 'Seq-interval_to': '32130157', 'Seq-interval_strand': {'Na-strand': StringElement('', attributes={'value': 'plus'})}, 'Seq-interval_id': {'Seq-id': {'Seq-id_gi': '2619141560'}}}}}, {'Seq-loc_int': {'Seq-interval': {'Seq-interval_from': '32130787', 'Seq-interval_to': '32130948', 'Seq-interval_strand': {'Na-strand': StringElement('', attributes={'value': 'plus'})}, 'Seq-interval_id': {'Seq-id': {'Seq-id_gi': '2619141560'}}}}}, {'Seq-loc_int': {'Seq-interval': {'Seq-interval_from': '32150423', 'Seq-interval_to': '32150582', 'Seq-interval_strand': {'Na-strand': StringElement('', attributes={'value': 'plus'})}, 'Seq-interval_id': {'Seq-id': {'Seq-id_gi': '2619141560'}}}}}, {'Seq-loc_int': {'Seq-interval': {'Seq-interval_from': '32151007', 'Seq-interval_to': '32151128', 'Seq-interval_strand': {'Na-strand': StringElement('', attributes={'value': 'plus'})}, 'Seq-interval_id': {'Seq-id': {'Seq-id_gi': '2619141560'}}}}}, {'Seq-loc_int': {'Seq-interval': {'Seq-interval_from': '32161126', 'Seq-interval_to': '32161238', 'Seq-interval_strand': {'Na-strand': StringElement('', attributes={'value': 'plus'})}, 'Seq-interval_id': {'Seq-id': {'Seq-id_gi': '2619141560'}}}}}, {'Seq-loc_int': {'Seq-interval': {'Seq-interval_from': '32161898', 'Seq-interval_to': '32161980', 'Seq-interval_strand': {'Na-strand': StringElement('', attributes={'value': 'plus'})}, 'Seq-interval_id': {'Seq-id': {'Seq-id_gi': '2619141560'}}}}}, {'Seq-loc_int': {'Seq-interval': {'Seq-interval_from': '32162362', 'Seq-interval_to': '32162619', 'Seq-interval_strand': {'Na-strand': StringElement('', attributes={'value': 'plus'})}, 'Seq-interval_id': {'Seq-id': {'Seq-id_gi': '2619141560'}}}}}, {'Seq-loc_int': {'Seq-interval': {'Seq-interval_from': '32167533', 'Seq-interval_to': '32168419', 'Seq-interval_strand': {'Na-strand': StringElement('', attributes={'value': 'plus'})}, 'Seq-interval_id': {'Seq-id': {'Seq-id_gi': '2619141560'}}}}}]}}], 'Gene-commentary_seqs': [{'Seq-loc_whole': {'Seq-id': {'Seq-id_gi': '2619890531'}}}]}]}, {'Gene-commentary_type': StringElement('3', attributes={'value': 'mRNA'}), 'Gene-commentary_heading': 'Reference', 'Gene-commentary_label': 'transcript variant X1', 'Gene-commentary_accession': 'XM_060944023', 'Gene-commentary_version': '1', 'Gene-commentary_genomic-coords': [{'Seq-loc_mix': {'Seq-loc-mix': [{'Seq-loc_int': {'Seq-interval': {'Seq-interval_from': '32092826', 'Seq-interval_to': '32092844', 'Seq-interval_strand': {'Na-strand': StringElement('', attributes={'value': 'plus'})}, 'Seq-interval_id': {'Seq-id': {'Seq-id_gi': '2619141560'}}}}}, {'Seq-loc_int': {'Seq-interval': {'Seq-interval_from': '32101910', 'Seq-interval_to': '32102036', 'Seq-interval_strand': {'Na-strand': StringElement('', attributes={'value': 'plus'})}, 'Seq-interval_id': {'Seq-id': {'Seq-id_gi': '2619141560'}}}}}, {'Seq-loc_int': {'Seq-interval': {'Seq-interval_from': '32104008', 'Seq-interval_to': '32104119', 'Seq-interval_strand': {'Na-strand': StringElement('', attributes={'value': 'plus'})}, 'Seq-interval_id': {'Seq-id': {'Seq-id_gi': '2619141560'}}}}}, {'Seq-loc_int': {'Seq-interval': {'Seq-interval_from': '32109577', 'Seq-interval_to': '32109744', 'Seq-interval_strand': {'Na-strand': StringElement('', attributes={'value': 'plus'})}, 'Seq-interval_id': {'Seq-id': {'Seq-id_gi': '2619141560'}}}}}, {'Seq-loc_int': {'Seq-interval': {'Seq-interval_from': '32109850', 'Seq-interval_to': '32109995', 'Seq-interval_strand': {'Na-strand': StringElement('', attributes={'value': 'plus'})}, 'Seq-interval_id': {'Seq-id': {'Seq-id_gi': '2619141560'}}}}}, {'Seq-loc_int': {'Seq-interval': {'Seq-interval_from': '32110561', 'Seq-interval_to': '32110716', 'Seq-interval_strand': {'Na-strand': StringElement('', attributes={'value': 'plus'})}, 'Seq-interval_id': {'Seq-id': {'Seq-id_gi': '2619141560'}}}}}, {'Seq-loc_int': {'Seq-interval': {'Seq-interval_from': '32118904', 'Seq-interval_to': '32119200', 'Seq-interval_strand': {'Na-strand': StringElement('', attributes={'value': 'plus'})}, 'Seq-interval_id': {'Seq-id': {'Seq-id_gi': '2619141560'}}}}}, {'Seq-loc_int': {'Seq-interval': {'Seq-interval_from': '32121387', 'Seq-interval_to': '32121608', 'Seq-interval_strand': {'Na-strand': StringElement('', attributes={'value': 'plus'})}, 'Seq-interval_id': {'Seq-id': {'Seq-id_gi': '2619141560'}}}}}, {'Seq-loc_int': {'Seq-interval': {'Seq-interval_from': '32123533', 'Seq-interval_to': '32123732', 'Seq-interval_strand': {'Na-strand': StringElement('', attributes={'value': 'plus'})}, 'Seq-interval_id': {'Seq-id': {'Seq-id_gi': '2619141560'}}}}}, {'Seq-loc_int': {'Seq-interval': {'Seq-interval_from': '32124194', 'Seq-interval_to': '32124326', 'Seq-interval_strand': {'Na-strand': StringElement('', attributes={'value': 'plus'})}, 'Seq-interval_id': {'Seq-id': {'Seq-id_gi': '2619141560'}}}}}, {'Seq-loc_int': {'Seq-interval': {'Seq-interval_from': '32128525', 'Seq-interval_to': '32128679', 'Seq-interval_strand': {'Na-strand': StringElement('', attributes={'value': 'plus'})}, 'Seq-interval_id': {'Seq-id': {'Seq-id_gi': '2619141560'}}}}}, {'Seq-loc_int': {'Seq-interval': {'Seq-interval_from': '32129683', 'Seq-interval_to': '32129851', 'Seq-interval_strand': {'Na-strand': StringElement('', attributes={'value': 'plus'})}, 'Seq-interval_id': {'Seq-id': {'Seq-id_gi': '2619141560'}}}}}, {'Seq-loc_int': {'Seq-interval': {'Seq-interval_from': '32130017', 'Seq-interval_to': '32130157', 'Seq-interval_strand': {'Na-strand': StringElement('', attributes={'value': 'plus'})}, 'Seq-interval_id': {'Seq-id': {'Seq-id_gi': '2619141560'}}}}}, {'Seq-loc_int': {'Seq-interval': {'Seq-interval_from': '32130787', 'Seq-interval_to': '32130948', 'Seq-interval_strand': {'Na-strand': StringElement('', attributes={'value': 'plus'})}, 'Seq-interval_id': {'Seq-id': {'Seq-id_gi': '2619141560'}}}}}, {'Seq-loc_int': {'Seq-interval': {'Seq-interval_from': '32150423', 'Seq-interval_to': '32150582', 'Seq-interval_strand': {'Na-strand': StringElement('', attributes={'value': 'plus'})}, 'Seq-interval_id': {'Seq-id': {'Seq-id_gi': '2619141560'}}}}}, {'Seq-loc_int': {'Seq-interval': {'Seq-interval_from': '32151007', 'Seq-interval_to': '32151128', 'Seq-interval_strand': {'Na-strand': StringElement('', attributes={'value': 'plus'})}, 'Seq-interval_id': {'Seq-id': {'Seq-id_gi': '2619141560'}}}}}, {'Seq-loc_int': {'Seq-interval': {'Seq-interval_from': '32161126', 'Seq-interval_to': '32161238', 'Seq-interval_strand': {'Na-strand': StringElement('', attributes={'value': 'plus'})}, 'Seq-interval_id': {'Seq-id': {'Seq-id_gi': '2619141560'}}}}}, {'Seq-loc_int': {'Seq-interval': {'Seq-interval_from': '32161898', 'Seq-interval_to': '32161980', 'Seq-interval_strand': {'Na-strand': StringElement('', attributes={'value': 'plus'})}, 'Seq-interval_id': {'Seq-id': {'Seq-id_gi': '2619141560'}}}}}, {'Seq-loc_int': {'Seq-interval': {'Seq-interval_from': '32162362', 'Seq-interval_to': '32162619', 'Seq-interval_strand': {'Na-strand': StringElement('', attributes={'value': 'plus'})}, 'Seq-interval_id': {'Seq-id': {'Seq-id_gi': '2619141560'}}}}}, {'Seq-loc_int': {'Seq-interval': {'Seq-interval_from': '32167533', 'Seq-interval_to': '32170049', 'Seq-interval_strand': {'Na-strand': StringElement('', attributes={'value': 'plus'})}, 'Seq-interval_id': {'Seq-id': {'Seq-id_gi': '2619141560'}}}}}]}}], 'Gene-commentary_seqs': [{'Seq-loc_whole': {'Seq-id': {'Seq-id_gi': '2619890528'}}}], 'Gene-commentary_products': [{'Gene-commentary_type': StringElement('8', attributes={'value': 'peptide'}), 'Gene-commentary_heading': 'Reference', 'Gene-commentary_label': 'isoform X1', 'Gene-commentary_accession': 'XP_060800006', 'Gene-commentary_version': '1', 'Gene-commentary_genomic-coords': [{'Seq-loc_mix': {'Seq-loc-mix': [{'Seq-loc_int': {'Seq-interval': {'Seq-interval_from': '32101944', 'Seq-interval_to': '32102036', 'Seq-interval_strand': {'Na-strand': StringElement('', attributes={'value': 'plus'})}, 'Seq-interval_id': {'Seq-id': {'Seq-id_gi': '2619141560'}}}}}, {'Seq-loc_int': {'Seq-interval': {'Seq-interval_from': '32104008', 'Seq-interval_to': '32104119', 'Seq-interval_strand': {'Na-strand': StringElement('', attributes={'value': 'plus'})}, 'Seq-interval_id': {'Seq-id': {'Seq-id_gi': '2619141560'}}}}}, {'Seq-loc_int': {'Seq-interval': {'Seq-interval_from': '32109577', 'Seq-interval_to': '32109744', 'Seq-interval_strand': {'Na-strand': StringElement('', attributes={'value': 'plus'})}, 'Seq-interval_id': {'Seq-id': {'Seq-id_gi': '2619141560'}}}}}, {'Seq-loc_int': {'Seq-interval': {'Seq-interval_from': '32109850', 'Seq-interval_to': '32109995', 'Seq-interval_strand': {'Na-strand': StringElement('', attributes={'value': 'plus'})}, 'Seq-interval_id': {'Seq-id': {'Seq-id_gi': '2619141560'}}}}}, {'Seq-loc_int': {'Seq-interval': {'Seq-interval_from': '32110561', 'Seq-interval_to': '32110716', 'Seq-interval_strand': {'Na-strand': StringElement('', attributes={'value': 'plus'})}, 'Seq-interval_id': {'Seq-id': {'Seq-id_gi': '2619141560'}}}}}, {'Seq-loc_int': {'Seq-interval': {'Seq-interval_from': '32118904', 'Seq-interval_to': '32119200', 'Seq-interval_strand': {'Na-strand': StringElement('', attributes={'value': 'plus'})}, 'Seq-interval_id': {'Seq-id': {'Seq-id_gi': '2619141560'}}}}}, {'Seq-loc_int': {'Seq-interval': {'Seq-interval_from': '32121387', 'Seq-interval_to': '32121608', 'Seq-interval_strand': {'Na-strand': StringElement('', attributes={'value': 'plus'})}, 'Seq-interval_id': {'Seq-id': {'Seq-id_gi': '2619141560'}}}}}, {'Seq-loc_int': {'Seq-interval': {'Seq-interval_from': '32123533', 'Seq-interval_to': '32123732', 'Seq-interval_strand': {'Na-strand': StringElement('', attributes={'value': 'plus'})}, 'Seq-interval_id': {'Seq-id': {'Seq-id_gi': '2619141560'}}}}}, {'Seq-loc_int': {'Seq-interval': {'Seq-interval_from': '32124194', 'Seq-interval_to': '32124326', 'Seq-interval_strand': {'Na-strand': StringElement('', attributes={'value': 'plus'})}, 'Seq-interval_id': {'Seq-id': {'Seq-id_gi': '2619141560'}}}}}, {'Seq-loc_int': {'Seq-interval': {'Seq-interval_from': '32128525', 'Seq-interval_to': '32128679', 'Seq-interval_strand': {'Na-strand': StringElement('', attributes={'value': 'plus'})}, 'Seq-interval_id': {'Seq-id': {'Seq-id_gi': '2619141560'}}}}}, {'Seq-loc_int': {'Seq-interval': {'Seq-interval_from': '32129683', 'Seq-interval_to': '32129851', 'Seq-interval_strand': {'Na-strand': StringElement('', attributes={'value': 'plus'})}, 'Seq-interval_id': {'Seq-id': {'Seq-id_gi': '2619141560'}}}}}, {'Seq-loc_int': {'Seq-interval': {'Seq-interval_from': '32130017', 'Seq-interval_to': '32130157', 'Seq-interval_strand': {'Na-strand': StringElement('', attributes={'value': 'plus'})}, 'Seq-interval_id': {'Seq-id': {'Seq-id_gi': '2619141560'}}}}}, {'Seq-loc_int': {'Seq-interval': {'Seq-interval_from': '32130787', 'Seq-interval_to': '32130948', 'Seq-interval_strand': {'Na-strand': StringElement('', attributes={'value': 'plus'})}, 'Seq-interval_id': {'Seq-id': {'Seq-id_gi': '2619141560'}}}}}, {'Seq-loc_int': {'Seq-interval': {'Seq-interval_from': '32150423', 'Seq-interval_to': '32150582', 'Seq-interval_strand': {'Na-strand': StringElement('', attributes={'value': 'plus'})}, 'Seq-interval_id': {'Seq-id': {'Seq-id_gi': '2619141560'}}}}}, {'Seq-loc_int': {'Seq-interval': {'Seq-interval_from': '32151007', 'Seq-interval_to': '32151128', 'Seq-interval_strand': {'Na-strand': StringElement('', attributes={'value': 'plus'})}, 'Seq-interval_id': {'Seq-id': {'Seq-id_gi': '2619141560'}}}}}, {'Seq-loc_int': {'Seq-interval': {'Seq-interval_from': '32161126', 'Seq-interval_to': '32161238', 'Seq-interval_strand': {'Na-strand': StringElement('', attributes={'value': 'plus'})}, 'Seq-interval_id': {'Seq-id': {'Seq-id_gi': '2619141560'}}}}}, {'Seq-loc_int': {'Seq-interval': {'Seq-interval_from': '32161898', 'Seq-interval_to': '32161980', 'Seq-interval_strand': {'Na-strand': StringElement('', attributes={'value': 'plus'})}, 'Seq-interval_id': {'Seq-id': {'Seq-id_gi': '2619141560'}}}}}, {'Seq-loc_int': {'Seq-interval': {'Seq-interval_from': '32162362', 'Seq-interval_to': '32162619', 'Seq-interval_strand': {'Na-strand': StringElement('', attributes={'value': 'plus'})}, 'Seq-interval_id': {'Seq-id': {'Seq-id_gi': '2619141560'}}}}}, {'Seq-loc_int': {'Seq-interval': {'Seq-interval_from': '32167533', 'Seq-interval_to': '32168419', 'Seq-interval_strand': {'Na-strand': StringElement('', attributes={'value': 'plus'})}, 'Seq-interval_id': {'Seq-id': {'Seq-id_gi': '2619141560'}}}}}]}}], 'Gene-commentary_seqs': [{'Seq-loc_whole': {'Seq-id': {'Seq-id_gi': '2619890529'}}}]}]}, {'Gene-commentary_type': StringElement('3', attributes={'value': 'mRNA'}), 'Gene-commentary_heading': 'Reference', 'Gene-commentary_label': 'transcript variant X3', 'Gene-commentary_accession': 'XM_060944025', 'Gene-commentary_version': '1', 'Gene-commentary_genomic-coords': [{'Seq-loc_mix': {'Seq-loc-mix': [{'Seq-loc_int': {'Seq-interval': {'Seq-interval_from': '32092826', 'Seq-interval_to': '32092844', 'Seq-interval_strand': {'Na-strand': StringElement('', attributes={'value': 'plus'})}, 'Seq-interval_id': {'Seq-id': {'Seq-id_gi': '2619141560'}}}}}, {'Seq-loc_int': {'Seq-interval': {'Seq-interval_from': '32101910', 'Seq-interval_to': '32102036', 'Seq-interval_strand': {'Na-strand': StringElement('', attributes={'value': 'plus'})}, 'Seq-interval_id': {'Seq-id': {'Seq-id_gi': '2619141560'}}}}}, {'Seq-loc_int': {'Seq-interval': {'Seq-interval_from': '32104008', 'Seq-interval_to': '32104119', 'Seq-interval_strand': {'Na-strand': StringElement('', attributes={'value': 'plus'})}, 'Seq-interval_id': {'Seq-id': {'Seq-id_gi': '2619141560'}}}}}, {'Seq-loc_int': {'Seq-interval': {'Seq-interval_from': '32109577', 'Seq-interval_to': '32109744', 'Seq-interval_strand': {'Na-strand': StringElement('', attributes={'value': 'plus'})}, 'Seq-interval_id': {'Seq-id': {'Seq-id_gi': '2619141560'}}}}}, {'Seq-loc_int': {'Seq-interval': {'Seq-interval_from': '32109850', 'Seq-interval_to': '32109995', 'Seq-interval_strand': {'Na-strand': StringElement('', attributes={'value': 'plus'})}, 'Seq-interval_id': {'Seq-id': {'Seq-id_gi': '2619141560'}}}}}, {'Seq-loc_int': {'Seq-interval': {'Seq-interval_from': '32110564', 'Seq-interval_to': '32110716', 'Seq-interval_strand': {'Na-strand': StringElement('', attributes={'value': 'plus'})}, 'Seq-interval_id': {'Seq-id': {'Seq-id_gi': '2619141560'}}}}}, {'Seq-loc_int': {'Seq-interval': {'Seq-interval_from': '32118904', 'Seq-interval_to': '32119200', 'Seq-interval_strand': {'Na-strand': StringElement('', attributes={'value': 'plus'})}, 'Seq-interval_id': {'Seq-id': {'Seq-id_gi': '2619141560'}}}}}, {'Seq-loc_int': {'Seq-interval': {'Seq-interval_from': '32121387', 'Seq-interval_to': '32121608', 'Seq-interval_strand': {'Na-strand': StringElement('', attributes={'value': 'plus'})}, 'Seq-interval_id': {'Seq-id': {'Seq-id_gi': '2619141560'}}}}}, {'Seq-loc_int': {'Seq-interval': {'Seq-interval_from': '32123533', 'Seq-interval_to': '32123732', 'Seq-interval_strand': {'Na-strand': StringElement('', attributes={'value': 'plus'})}, 'Seq-interval_id': {'Seq-id': {'Seq-id_gi': '2619141560'}}}}}, {'Seq-loc_int': {'Seq-interval': {'Seq-interval_from': '32124194', 'Seq-interval_to': '32124326', 'Seq-interval_strand': {'Na-strand': StringElement('', attributes={'value': 'plus'})}, 'Seq-interval_id': {'Seq-id': {'Seq-id_gi': '2619141560'}}}}}, {'Seq-loc_int': {'Seq-interval': {'Seq-interval_from': '32128525', 'Seq-interval_to': '32128679', 'Seq-interval_strand': {'Na-strand': StringElement('', attributes={'value': 'plus'})}, 'Seq-interval_id': {'Seq-id': {'Seq-id_gi': '2619141560'}}}}}, {'Seq-loc_int': {'Seq-interval': {'Seq-interval_from': '32129683', 'Seq-interval_to': '32129851', 'Seq-interval_strand': {'Na-strand': StringElement('', attributes={'value': 'plus'})}, 'Seq-interval_id': {'Seq-id': {'Seq-id_gi': '2619141560'}}}}}, {'Seq-loc_int': {'Seq-interval': {'Seq-interval_from': '32130017', 'Seq-interval_to': '32130157', 'Seq-interval_strand': {'Na-strand': StringElement('', attributes={'value': 'plus'})}, 'Seq-interval_id': {'Seq-id': {'Seq-id_gi': '2619141560'}}}}}, {'Seq-loc_int': {'Seq-interval': {'Seq-interval_from': '32130787', 'Seq-interval_to': '32130948', 'Seq-interval_strand': {'Na-strand': StringElement('', attributes={'value': 'plus'})}, 'Seq-interval_id': {'Seq-id': {'Seq-id_gi': '2619141560'}}}}}, {'Seq-loc_int': {'Seq-interval': {'Seq-interval_from': '32150423', 'Seq-interval_to': '32150582', 'Seq-interval_strand': {'Na-strand': StringElement('', attributes={'value': 'plus'})}, 'Seq-interval_id': {'Seq-id': {'Seq-id_gi': '2619141560'}}}}}, {'Seq-loc_int': {'Seq-interval': {'Seq-interval_from': '32151007', 'Seq-interval_to': '32151128', 'Seq-interval_strand': {'Na-strand': StringElement('', attributes={'value': 'plus'})}, 'Seq-interval_id': {'Seq-id': {'Seq-id_gi': '2619141560'}}}}}, {'Seq-loc_int': {'Seq-interval': {'Seq-interval_from': '32161126', 'Seq-interval_to': '32161238', 'Seq-interval_strand': {'Na-strand': StringElement('', attributes={'value': 'plus'})}, 'Seq-interval_id': {'Seq-id': {'Seq-id_gi': '2619141560'}}}}}, {'Seq-loc_int': {'Seq-interval': {'Seq-interval_from': '32161898', 'Seq-interval_to': '32161980', 'Seq-interval_strand': {'Na-strand': StringElement('', attributes={'value': 'plus'})}, 'Seq-interval_id': {'Seq-id': {'Seq-id_gi': '2619141560'}}}}}, {'Seq-loc_int': {'Seq-interval': {'Seq-interval_from': '32162362', 'Seq-interval_to': '32162619', 'Seq-interval_strand': {'Na-strand': StringElement('', attributes={'value': 'plus'})}, 'Seq-interval_id': {'Seq-id': {'Seq-id_gi': '2619141560'}}}}}, {'Seq-loc_int': {'Seq-interval': {'Seq-interval_from': '32167533', 'Seq-interval_to': '32170049', 'Seq-interval_strand': {'Na-strand': StringElement('', attributes={'value': 'plus'})}, 'Seq-interval_id': {'Seq-id': {'Seq-id_gi': '2619141560'}}}}}]}}], 'Gene-commentary_seqs': [{'Seq-loc_whole': {'Seq-id': {'Seq-id_gi': '2619890532'}}}], 'Gene-commentary_products': [{'Gene-commentary_type': StringElement('8', attributes={'value': 'peptide'}), 'Gene-commentary_heading': 'Reference', 'Gene-commentary_label': 'isoform X2', 'Gene-commentary_accession': 'XP_060800008', 'Gene-commentary_version': '1', 'Gene-commentary_genomic-coords': [{'Seq-loc_mix': {'Seq-loc-mix': [{'Seq-loc_int': {'Seq-interval': {'Seq-interval_from': '32101944', 'Seq-interval_to': '32102036', 'Seq-interval_strand': {'Na-strand': StringElement('', attributes={'value': 'plus'})}, 'Seq-interval_id': {'Seq-id': {'Seq-id_gi': '2619141560'}}}}}, {'Seq-loc_int': {'Seq-interval': {'Seq-interval_from': '32104008', 'Seq-interval_to': '32104119', 'Seq-interval_strand': {'Na-strand': StringElement('', attributes={'value': 'plus'})}, 'Seq-interval_id': {'Seq-id': {'Seq-id_gi': '2619141560'}}}}}, {'Seq-loc_int': {'Seq-interval': {'Seq-interval_from': '32109577', 'Seq-interval_to': '32109744', 'Seq-interval_strand': {'Na-strand': StringElement('', attributes={'value': 'plus'})}, 'Seq-interval_id': {'Seq-id': {'Seq-id_gi': '2619141560'}}}}}, {'Seq-loc_int': {'Seq-interval': {'Seq-interval_from': '32109850', 'Seq-interval_to': '32109995', 'Seq-interval_strand': {'Na-strand': StringElement('', attributes={'value': 'plus'})}, 'Seq-interval_id': {'Seq-id': {'Seq-id_gi': '2619141560'}}}}}, {'Seq-loc_int': {'Seq-interval': {'Seq-interval_from': '32110564', 'Seq-interval_to': '32110716', 'Seq-interval_strand': {'Na-strand': StringElement('', attributes={'value': 'plus'})}, 'Seq-interval_id': {'Seq-id': {'Seq-id_gi': '2619141560'}}}}}, {'Seq-loc_int': {'Seq-interval': {'Seq-interval_from': '32118904', 'Seq-interval_to': '32119200', 'Seq-interval_strand': {'Na-strand': StringElement('', attributes={'value': 'plus'})}, 'Seq-interval_id': {'Seq-id': {'Seq-id_gi': '2619141560'}}}}}, {'Seq-loc_int': {'Seq-interval': {'Seq-interval_from': '32121387', 'Seq-interval_to': '32121608', 'Seq-interval_strand': {'Na-strand': StringElement('', attributes={'value': 'plus'})}, 'Seq-interval_id': {'Seq-id': {'Seq-id_gi': '2619141560'}}}}}, {'Seq-loc_int': {'Seq-interval': {'Seq-interval_from': '32123533', 'Seq-interval_to': '32123732', 'Seq-interval_strand': {'Na-strand': StringElement('', attributes={'value': 'plus'})}, 'Seq-interval_id': {'Seq-id': {'Seq-id_gi': '2619141560'}}}}}, {'Seq-loc_int': {'Seq-interval': {'Seq-interval_from': '32124194', 'Seq-interval_to': '32124326', 'Seq-interval_strand': {'Na-strand': StringElement('', attributes={'value': 'plus'})}, 'Seq-interval_id': {'Seq-id': {'Seq-id_gi': '2619141560'}}}}}, {'Seq-loc_int': {'Seq-interval': {'Seq-interval_from': '32128525', 'Seq-interval_to': '32128679', 'Seq-interval_strand': {'Na-strand': StringElement('', attributes={'value': 'plus'})}, 'Seq-interval_id': {'Seq-id': {'Seq-id_gi': '2619141560'}}}}}, {'Seq-loc_int': {'Seq-interval': {'Seq-interval_from': '32129683', 'Seq-interval_to': '32129851', 'Seq-interval_strand': {'Na-strand': StringElement('', attributes={'value': 'plus'})}, 'Seq-interval_id': {'Seq-id': {'Seq-id_gi': '2619141560'}}}}}, {'Seq-loc_int': {'Seq-interval': {'Seq-interval_from': '32130017', 'Seq-interval_to': '32130157', 'Seq-interval_strand': {'Na-strand': StringElement('', attributes={'value': 'plus'})}, 'Seq-interval_id': {'Seq-id': {'Seq-id_gi': '2619141560'}}}}}, {'Seq-loc_int': {'Seq-interval': {'Seq-interval_from': '32130787', 'Seq-interval_to': '32130948', 'Seq-interval_strand': {'Na-strand': StringElement('', attributes={'value': 'plus'})}, 'Seq-interval_id': {'Seq-id': {'Seq-id_gi': '2619141560'}}}}}, {'Seq-loc_int': {'Seq-interval': {'Seq-interval_from': '32150423', 'Seq-interval_to': '32150582', 'Seq-interval_strand': {'Na-strand': StringElement('', attributes={'value': 'plus'})}, 'Seq-interval_id': {'Seq-id': {'Seq-id_gi': '2619141560'}}}}}, {'Seq-loc_int': {'Seq-interval': {'Seq-interval_from': '32151007', 'Seq-interval_to': '32151128', 'Seq-interval_strand': {'Na-strand': StringElement('', attributes={'value': 'plus'})}, 'Seq-interval_id': {'Seq-id': {'Seq-id_gi': '2619141560'}}}}}, {'Seq-loc_int': {'Seq-interval': {'Seq-interval_from': '32161126', 'Seq-interval_to': '32161238', 'Seq-interval_strand': {'Na-strand': StringElement('', attributes={'value': 'plus'})}, 'Seq-interval_id': {'Seq-id': {'Seq-id_gi': '2619141560'}}}}}, {'Seq-loc_int': {'Seq-interval': {'Seq-interval_from': '32161898', 'Seq-interval_to': '32161980', 'Seq-interval_strand': {'Na-strand': StringElement('', attributes={'value': 'plus'})}, 'Seq-interval_id': {'Seq-id': {'Seq-id_gi': '2619141560'}}}}}, {'Seq-loc_int': {'Seq-interval': {'Seq-interval_from': '32162362', 'Seq-interval_to': '32162619', 'Seq-interval_strand': {'Na-strand': StringElement('', attributes={'value': 'plus'})}, 'Seq-interval_id': {'Seq-id': {'Seq-id_gi': '2619141560'}}}}}, {'Seq-loc_int': {'Seq-interval': {'Seq-interval_from': '32167533', 'Seq-interval_to': '32168419', 'Seq-interval_strand': {'Na-strand': StringElement('', attributes={'value': 'plus'})}, 'Seq-interval_id': {'Seq-id': {'Seq-id_gi': '2619141560'}}}}}]}}], 'Gene-commentary_seqs': [{'Seq-loc_whole': {'Seq-id': {'Seq-id_gi': '2619890533'}}}]}]}]}], 'Entrezgene_properties': [{'Gene-commentary_type': StringElement('16', attributes={'value': 'property'}), 'Gene-commentary_label': 'Exon count', 'Gene-commentary_text': '20'}], 'Entrezgene_comments': [{'Gene-commentary_type': StringElement('254', attributes={'value': 'comment'}), 'Gene-commentary_heading': 'RefSeq Status', 'Gene-commentary_label': 'MODEL'}, {'Gene-commentary_type': StringElement('23', attributes={'value': 'gene-group'}), 'Gene-commentary_heading': 'Orthologs from Annotation Pipeline', 'Gene-commentary_comment': [{'Gene-commentary_type': StringElement('23', attributes={'value': 'gene-group'}), 'Gene-commentary_label': 'Primary', 'Gene-commentary_source': [{'Other-source_src': {'Dbtag': {'Dbtag_db': 'GeneID', 'Dbtag_tag': {'Object-id': {'Object-id_id': '83990'}}}}, 'Other-source_pre-text': 'brip1', 'Other-source_anchor': 'human'}, {'Other-source_src': {'Dbtag': {'Dbtag_db': 'taxon', 'Dbtag_tag': {'Object-id': {'Object-id_id': '9606'}}}}}]}, {'Gene-commentary_type': StringElement('23', attributes={'value': 'gene-group'}), 'Gene-commentary_label': 'Additional', 'Gene-commentary_source': [{'Other-source_src': {'Dbtag': {'Dbtag_db': 'GeneID', 'Dbtag_tag': {'Object-id': {'Object-id_id': '794038'}}}}, 'Other-source_pre-text': 'brip1', 'Other-source_anchor': 'zebrafish'}, {'Other-source_src': {'Dbtag': {'Dbtag_db': 'taxon', 'Dbtag_tag': {'Object-id': {'Object-id_id': '7955'}}}}}]}]}, {'Gene-commentary_type': StringElement('254', attributes={'value': 'comment'}), 'Gene-commentary_heading': 'NCBI Reference Sequences (RefSeq)', 'Gene-commentary_comment': [{'Gene-commentary_type': StringElement('254', attributes={'value': 'comment'}), 'Gene-commentary_heading': 'RefSeqs of Annotated Genomes: GCF_027579695.1-RS_2023_11', 'Gene-commentary_products': [{'Gene-commentary_type': StringElement('1', attributes={'value': 'genomic'}), 'Gene-commentary_heading': 'Reference fNeoGra1.pri', 'Gene-commentary_accession': 'NC_083585', 'Gene-commentary_version': '1', 'Gene-commentary_source': [{'Other-source_src': {'Dbtag': {'Dbtag_db': 'Nucleotide', 'Dbtag_tag': {'Object-id': {'Object-id_str': '2619141560'}}}}}], 'Gene-commentary_seqs': [{'Seq-loc_int': {'Seq-interval': {'Seq-interval_from': '32092796', 'Seq-interval_to': '32170049', 'Seq-interval_strand': {'Na-strand': StringElement('', attributes={'value': 'plus'})}, 'Seq-interval_id': {'Seq-id': {'Seq-id_gi': '2619141560'}}}}}], 'Gene-commentary_products': [{'Gene-commentary_type': StringElement('3', attributes={'value': 'mRNA'}), 'Gene-commentary_accession': 'XM_060944024', 'Gene-commentary_version': '1', 'Gene-commentary_source': [{'Other-source_src': {'Dbtag': {'Dbtag_db': 'Nucleotide', 'Dbtag_tag': {'Object-id': {'Object-id_str': '2619890530'}}}}}], 'Gene-commentary_seqs': [{'Seq-loc_whole': {'Seq-id': {'Seq-id_gi': '2619890530'}}}], 'Gene-commentary_products': [{'Gene-commentary_type': StringElement('8', attributes={'value': 'peptide'}), 'Gene-commentary_accession': 'XP_060800007', 'Gene-commentary_version': '1', 'Gene-commentary_source': [{'Other-source_src': {'Dbtag': {'Dbtag_db': 'Protein', 'Dbtag_tag': {'Object-id': {'Object-id_str': '2619890531'}}}}, 'Other-source_anchor': 'XP_060800007', 'Other-source_post-text': 'Fanconi anemia group J protein isoform X1'}], 'Gene-commentary_seqs': [{'Seq-loc_whole': {'Seq-id': {'Seq-id_gi': '2619890531'}}}]}]}, {'Gene-commentary_type': StringElement('3', attributes={'value': 'mRNA'}), 'Gene-commentary_accession': 'XM_060944023', 'Gene-commentary_version': '1', 'Gene-commentary_source': [{'Other-source_src': {'Dbtag': {'Dbtag_db': 'Nucleotide', 'Dbtag_tag': {'Object-id': {'Object-id_str': '2619890528'}}}}}], 'Gene-commentary_seqs': [{'Seq-loc_whole': {'Seq-id': {'Seq-id_gi': '2619890528'}}}], 'Gene-commentary_products': [{'Gene-commentary_type': StringElement('8', attributes={'value': 'peptide'}), 'Gene-commentary_accession': 'XP_060800006', 'Gene-commentary_version': '1', 'Gene-commentary_source': [{'Other-source_src': {'Dbtag': {'Dbtag_db': 'Protein', 'Dbtag_tag': {'Object-id': {'Object-id_str': '2619890529'}}}}, 'Other-source_anchor': 'XP_060800006', 'Other-source_post-text': 'Fanconi anemia group J protein isoform X1'}], 'Gene-commentary_seqs': [{'Seq-loc_whole': {'Seq-id': {'Seq-id_gi': '2619890529'}}}]}]}, {'Gene-commentary_type': StringElement('3', attributes={'value': 'mRNA'}), 'Gene-commentary_accession': 'XM_060944025', 'Gene-commentary_version': '1', 'Gene-commentary_source': [{'Other-source_src': {'Dbtag': {'Dbtag_db': 'Nucleotide', 'Dbtag_tag': {'Object-id': {'Object-id_str': '2619890532'}}}}}], 'Gene-commentary_seqs': [{'Seq-loc_whole': {'Seq-id': {'Seq-id_gi': '2619890532'}}}], 'Gene-commentary_products': [{'Gene-commentary_type': StringElement('8', attributes={'value': 'peptide'}), 'Gene-commentary_accession': 'XP_060800008', 'Gene-commentary_version': '1', 'Gene-commentary_source': [{'Other-source_src': {'Dbtag': {'Dbtag_db': 'Protein', 'Dbtag_tag': {'Object-id': {'Object-id_str': '2619890533'}}}}, 'Other-source_anchor': 'XP_060800008', 'Other-source_post-text': 'Fanconi anemia group J protein isoform X2'}], 'Gene-commentary_seqs': [{'Seq-loc_whole': {'Seq-id': {'Seq-id_gi': '2619890533'}}}]}]}]}]}]}, {'Gene-commentary_type': StringElement('254', attributes={'value': 'comment'}), 'Gene-commentary_heading': 'Related Sequences', 'Gene-commentary_products': [{'Gene-commentary_type': StringElement('1', attributes={'value': 'genomic'}), 'Gene-commentary_heading': 'Genomic', 'Gene-commentary_accession': 'JAQCNV010000017', 'Gene-commentary_version': '1', 'Gene-commentary_source': [{'Other-source_src': {'Dbtag': {'Dbtag_db': 'Nucleotide', 'Dbtag_tag': {'Object-id': {'Object-id_str': '2421675148'}}}}, 'Other-source_anchor': 'JAQCNV010000017.1'}], 'Gene-commentary_seqs': [{'Seq-loc_int': {'Seq-interval': {'Seq-interval_from': '32092796', 'Seq-interval_to': '32170049', 'Seq-interval_strand': {'Na-strand': StringElement('', attributes={'value': 'plus'})}, 'Seq-interval_id': {'Seq-id': {'Seq-id_gi': '2421675148'}}}}}], 'Gene-commentary_products': [{'Gene-commentary_type': StringElement('8', attributes={'value': 'peptide'}), 'Gene-commentary_text': 'None'}]}]}, {'Gene-commentary_type': StringElement('254', attributes={'value': 'comment'}), 'Gene-commentary_heading': 'Gene Location History', 'Gene-commentary_comment': [{'Gene-commentary_type': StringElement('254', attributes={'value': 'comment'}), 'Gene-commentary_heading': 'RS_2023_11', 'Gene-commentary_comment': [{'Gene-commentary_type': StringElement('24', attributes={'value': 'assembly'}), 'Gene-commentary_heading': 'fNeoGra1.pri', 'Gene-commentary_label': 'Reference', 'Gene-commentary_text': 'current', 'Gene-commentary_accession': 'GCF_027579695', 'Gene-commentary_version': '1', 'Gene-commentary_comment': [{'Gene-commentary_type': StringElement('25', attributes={'value': 'assembly-unit'}), 'Gene-commentary_heading': 'Primary Assembly', 'Gene-commentary_accession': 'GCF_027579705', 'Gene-commentary_version': '1', 'Gene-commentary_comment': [{'Gene-commentary_type': StringElement('1', attributes={'value': 'genomic'}), 'Gene-commentary_label': 'Chromosome 17', 'Gene-commentary_accession': 'NC_083585', 'Gene-commentary_version': '1', 'Gene-commentary_seqs': [{'Seq-loc_int': {'Seq-interval': {'Seq-interval_from': '32092796', 'Seq-interval_to': '32170049', 'Seq-interval_strand': {'Na-strand': StringElement('', attributes={'value': 'plus'})}, 'Seq-interval_id': {'Seq-id': {'Seq-id_gi': '2619141560'}}}}}]}]}]}]}]}], 'Entrezgene_unique-keys': [{'Dbtag_db': 'LocusID', 'Dbtag_tag': {'Object-id': {'Object-id_id': '132901555'}}}], 'Entrezgene_xtra-index-terms': ['LOC132901555']}]\n"
     ]
    }
   ],
   "source": [
    "from Bio import Entrez\n",
    "\n",
    "def search_gene(gene_name):\n",
    "    Entrez.email = \"bchen342@wisc.edu\"  \n",
    "    handle = Entrez.esearch(db=\"gene\", term=gene_name)\n",
    "    record = Entrez.read(handle)\n",
    "    handle.close()\n",
    "    return record[\"IdList\"]\n",
    "\n",
    "def fetch_gene_details(gene_id):\n",
    "    handle = Entrez.efetch(db=\"gene\", id=gene_id, retmode=\"xml\")\n",
    "    records = Entrez.read(handle)\n",
    "    handle.close()\n",
    "    return records\n",
    "\n",
    "\n",
    "gene_name = \"BRCA1\"  \n",
    "gene_ids = search_gene(gene_name)\n",
    "print(f\"Found Gene IDs: {gene_ids}\")\n",
    "\n",
    "if gene_ids:\n",
    "    gene_details = fetch_gene_details(gene_ids[0])\n",
    "    print(gene_details)\n"
   ]
  },
  {
   "cell_type": "code",
   "execution_count": null,
   "id": "f1f1175e",
   "metadata": {},
   "outputs": [],
   "source": []
  }
 ],
 "metadata": {
  "kernelspec": {
   "display_name": "Python 3 (ipykernel)",
   "language": "python",
   "name": "python3"
  },
  "language_info": {
   "codemirror_mode": {
    "name": "ipython",
    "version": 3
   },
   "file_extension": ".py",
   "mimetype": "text/x-python",
   "name": "python",
   "nbconvert_exporter": "python",
   "pygments_lexer": "ipython3",
   "version": "3.9.18"
  }
 },
 "nbformat": 4,
 "nbformat_minor": 5
}
