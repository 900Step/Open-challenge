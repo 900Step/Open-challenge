{
 "cells": [
  {
   "cell_type": "markdown",
   "id": "eb62eb28",
   "metadata": {},
   "source": [
    "### image features"
   ]
  },
  {
   "cell_type": "code",
   "execution_count": 1,
   "id": "8612b1cc",
   "metadata": {},
   "outputs": [],
   "source": [
    "import h5py\n",
    "import numpy as np\n",
    "\n",
    "with h5py.File('image_features.h5', 'r') as hf:\n",
    "    image_features = hf['image_features'][:]  # 使用[:]来加载数据到内存中\n",
    "\n",
    "# 现在 image_features 是一个NumPy数组，你可以像处理任何NumPy数组一样处理它\n",
    "print(image_features.shape)"
   ]
  },
  {
   "cell_type": "code",
   "execution_count": 2,
   "id": "f68d2fe1",
   "metadata": {},
   "outputs": [],
   "source": [
    "import torch\n",
    "import torch.nn.functional as F\n",
    "\n",
    "\n",
    "print(\"Shape of image_features:\", image_features.shape)\n",
    "\n",
    "# If it's a NumPy array, use np.transpose\n",
    "image_features_transposed = np.transpose(image_features, (0, 2, 1))\n",
    "\n",
    "# Convert the transposed array to a torch tensor\n",
    "image_features_tensor = torch.tensor(image_features_transposed)\n",
    "\n",
    "# Apply max pooling\n",
    "max_pooled_features = F.max_pool1d(image_features_tensor, kernel_size=197)\n",
    "\n",
    "# Squeeze the last dimension\n",
    "max_pooled_features = max_pooled_features.squeeze(-1)\n",
    "print(\"Shape of image_features:\", max_pooled_features.shape)"
   ]
  },
  {
   "cell_type": "markdown",
   "id": "a28d6f09",
   "metadata": {},
   "source": [
    "### string features"
   ]
  },
  {
   "cell_type": "code",
   "execution_count": 3,
   "id": "fd043d35",
   "metadata": {},
   "outputs": [],
   "source": [
    "import pandas as pd\n",
    "string_features = pd.read_csv('string_features.csv')\n",
    "string_features_np = string_features.values\n",
    "string_features_tensor = torch.tensor(string_features_np, dtype=torch.float32)\n",
    "print(string_features_tensor.shape)"
   ]
  },
  {
   "cell_type": "markdown",
   "id": "771e60fb",
   "metadata": {},
   "source": [
    "### nlp and gene features"
   ]
  },
  {
   "cell_type": "code",
   "execution_count": 4,
   "id": "a45bdccc",
   "metadata": {},
   "outputs": [],
   "source": [
    "nlp_gene_features = pd.read_csv('Xtrain_nlp_gene_mean.csv')\n",
    "nlp_gene_features_np = nlp_gene_features.iloc[:,1:].values\n",
    "nlp_gene_features_tensor = torch.tensor(nlp_gene_features_np, dtype=torch.float32)\n",
    "print(nlp_gene_features_tensor.shape)"
   ]
  },
  {
   "cell_type": "markdown",
   "id": "ace1c078",
   "metadata": {},
   "source": [
    "### attention network"
   ]
  },
  {
   "cell_type": "code",
   "execution_count": 5,
   "id": "e3c96d50",
   "metadata": {},
   "outputs": [],
   "source": [
    "import torch\n",
    "import torch.nn as nn\n",
    "import torch.nn.functional as F\n",
    "\n",
    "class BasicAttention(nn.Module):\n",
    "    def __init__(self, feature_dim1, feature_dim2, attention_dim):\n",
    "        super(BasicAttention, self).__init__()\n",
    "        self.query = nn.Linear(feature_dim1, attention_dim)  # feature_dim1 对应第一个输入维度\n",
    "        self.key = nn.Linear(feature_dim1, attention_dim)    # 假设 feature_dim1 也适用于第二个输入\n",
    "        self.value = nn.Linear(feature_dim2, attention_dim)  # feature_dim2 对应第三个输入维度\n",
    "\n",
    "    def forward(self, features1, features2, features3):\n",
    "        # features1 和 features2 形状均为 [614, 768]\n",
    "        # features3 形状为 [614, 1471]\n",
    "        query = self.query(features1)  # [614, attention_dim]\n",
    "        key = self.key(features2)      # [614, attention_dim]\n",
    "        value = self.value(features3)  # [614, attention_dim]，注意这里对features3应用value\n",
    "\n",
    "        # 计算注意力权重\n",
    "        attention_weights = F.softmax(torch.matmul(query, key.transpose(-2, -1)), dim=-1) # [614, 614]\n",
    "\n",
    "        # 应用注意力权重\n",
    "        attended_features = torch.matmul(attention_weights, value) # [614, attention_dim]\n",
    "\n",
    "        return attended_features\n",
    "# 创建注意力模块的实例\n",
    "attention_dim = 250  # 可以调整这个维度\n",
    "attention_module = BasicAttention(768, 1471, attention_dim)\n",
    "\n",
    "max_pooled_features = max_pooled_features.to(torch.float32)\n",
    "string_features_tensor = string_features_tensor.to(torch.float32)\n",
    "nlp_gene_features_tensor = nlp_gene_features_tensor.to(torch.float32)\n",
    "fused_features = attention_module(max_pooled_features, string_features_tensor, nlp_gene_features_tensor)"
   ]
  },
  {
   "cell_type": "code",
   "execution_count": 6,
   "id": "7108f8fb",
   "metadata": {},
   "outputs": [],
   "source": [
    "fused_features.shape"
   ]
  },
  {
   "cell_type": "code",
   "execution_count": 7,
   "id": "02c08204",
   "metadata": {},
   "outputs": [],
   "source": [
    "fused_features_np = fused_features.detach().numpy()\n",
    "\n",
    "# 将 NumPy 数组转换为 pandas DataFrame\n",
    "fused_features_df = pd.DataFrame(fused_features_np)\n",
    "\n",
    "# 保存 DataFrame 为 CSV 文件\n",
    "fused_features_df.to_csv('Att_fea_train_250.csv', index=False)"
   ]
  },
  {
   "cell_type": "markdown",
   "id": "a3a71b90",
   "metadata": {},
   "source": [
    "import torch\n",
    "import torch.nn as nn\n",
    "import torch.nn.functional as F\n",
    "\n",
    "class BasicAttention(nn.Module):\n",
    "    def __init__(self, feature_dim, attention_dim):\n",
    "        super(BasicAttention, self).__init__()\n",
    "        self.query = nn.Linear(feature_dim, attention_dim)\n",
    "        self.key = nn.Linear(feature_dim, attention_dim)\n",
    "        self.value = nn.Linear(feature_dim, attention_dim)\n",
    "\n",
    "    def forward(self, features1, features2):\n",
    "        # features1 和 features2 形状均为 [614, 768]\n",
    "        query = self.query(features1)  # [614, attention_dim]\n",
    "        key = self.key(features2)      # [614, attention_dim]\n",
    "        value = self.value(features2)  # [614, attention_dim]\n",
    "\n",
    "        # 计算注意力权重\n",
    "        attention_weights = F.softmax(torch.matmul(query, key.transpose(-2, -1)), dim=-1) # [614, 614]\n",
    "\n",
    "        # 应用注意力权重\n",
    "        attended_features = torch.matmul(attention_weights, value) # [614, attention_dim]\n",
    "\n",
    "        return attended_features\n",
    "\n",
    "########## 创建注意力模块的实例\n",
    "attention_dim = 768  # 可以调整这个维度\n",
    "attention_module = BasicAttention(768, attention_dim)\n",
    "\n",
    "max_pooled_features = max_pooled_features.to(torch.float32)\n",
    "string_features_tensor = string_features_tensor.to(torch.float32)\n",
    "\n",
    "fused_features = attention_module(max_pooled_features, string_features_tensor)\n",
    "\n"
   ]
  },
  {
   "cell_type": "markdown",
   "id": "b6aa74d4",
   "metadata": {},
   "source": [
    "fused_features_np = fused_features.detach().numpy()\n",
    "fused_features_df = pd.DataFrame(fused_features_np)\n",
    "fused_features_df.to_csv('attention_train_features.csv', index=False)"
   ]
  },
  {
   "cell_type": "markdown",
   "id": "11c6b8c7",
   "metadata": {},
   "source": [
    "### test data features\n"
   ]
  },
  {
   "cell_type": "code",
   "execution_count": 8,
   "id": "40165ba2",
   "metadata": {},
   "outputs": [],
   "source": [
    "import h5py\n",
    "import numpy as np\n",
    "\n",
    "with h5py.File('test_image_features.h5', 'r') as hf:\n",
    "    test_image_features = hf['test_image_features'][:]  # 使用[:]来加载数据到内存中\n",
    "\n",
    "# 现在 image_features 是一个NumPy数组，你可以像处理任何NumPy数组一样处理它\n",
    "print(test_image_features.shape)\n",
    "import torch\n",
    "import torch.nn.functional as F\n",
    "\n",
    "# If it's a NumPy array, use np.transpose\n",
    "test_image_features_transposed = np.transpose(test_image_features, (0, 2, 1))\n",
    "\n",
    "# Convert the transposed array to a torch tensor\n",
    "test_image_features_tensor = torch.tensor(test_image_features_transposed)\n",
    "\n",
    "# Apply max pooling\n",
    "test_max_pooled_features = F.max_pool1d(test_image_features_tensor, kernel_size=197)\n",
    "\n",
    "# Squeeze the last dimension\n",
    "test_max_pooled_features = test_max_pooled_features.squeeze(-1)\n",
    "test_max_pooled_features.shape"
   ]
  },
  {
   "cell_type": "code",
   "execution_count": 9,
   "id": "5cc56d0d",
   "metadata": {},
   "outputs": [],
   "source": [
    "import pandas as pd\n",
    "test_string_features = pd.read_csv('test_string_features.csv')\n",
    "test_string_features_np = test_string_features.values\n",
    "test_string_features_tensor = torch.tensor(test_string_features_np, dtype=torch.float32)\n",
    "\n",
    "test_string_features_tensor.shape\n",
    "\n",
    "test_nlp_gene_features = pd.read_csv('Xtest_nlp_gene_mean.csv')\n",
    "test_nlp_gene_features_np = test_nlp_gene_features.iloc[:,1:].values\n",
    "test_nlp_gene_features_tensor = torch.tensor(test_nlp_gene_features_np, dtype=torch.float32)\n",
    "print(test_nlp_gene_features_tensor.shape)"
   ]
  },
  {
   "cell_type": "code",
   "execution_count": 10,
   "id": "1a3bcaf9",
   "metadata": {},
   "outputs": [],
   "source": [
    "print(test_nlp_gene_features_tensor.shape)"
   ]
  },
  {
   "cell_type": "code",
   "execution_count": 11,
   "id": "ea9e8de2",
   "metadata": {},
   "outputs": [],
   "source": [
    "test_max_pooled_features = test_max_pooled_features.to(torch.float32)\n",
    "test_string_features_tensor = test_string_features_tensor.to(torch.float32)\n",
    "test_nlp_gene_features_tensor = test_nlp_gene_features_tensor.to(torch.float32)\n",
    "test_fused_features = attention_module(test_max_pooled_features, test_string_features_tensor, test_nlp_gene_features_tensor)\n",
    "test_fused_features.shape"
   ]
  },
  {
   "cell_type": "code",
   "execution_count": 12,
   "id": "f7f388eb",
   "metadata": {},
   "outputs": [],
   "source": [
    "test_fused_features_np = test_fused_features.detach().numpy()\n",
    "test_fused_features_df = pd.DataFrame(test_fused_features_np)\n",
    "test_fused_features_df.to_csv('Att_fea_test_250.csv', index=False)"
   ]
  },
  {
   "cell_type": "markdown",
   "id": "7d563a90",
   "metadata": {},
   "source": [
    "test_fused_features_np = test_fused_features.detach().numpy()\n",
    "test_fused_features_df = pd.DataFrame(test_fused_features_np)\n",
    "test_fused_features_df.to_csv('attention_test_features.csv', index=False)"
   ]
  }
 ],
 "metadata": {
  "kernelspec": {
   "display_name": "Python 3 (ipykernel)",
   "language": "python",
   "name": "python3"
  },
  "language_info": {
   "codemirror_mode": {
    "name": "ipython",
    "version": 3
   },
   "file_extension": ".py",
   "mimetype": "text/x-python",
   "name": "python",
   "nbconvert_exporter": "python",
   "pygments_lexer": "ipython3",
   "version": "3.9.18"
  }
 },
 "nbformat": 4,
 "nbformat_minor": 5
}
