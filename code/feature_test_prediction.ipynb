{
 "cells": [
  {
   "cell_type": "markdown",
   "id": "fc0ed759",
   "metadata": {},
   "source": [
    "### packages and multioutput regression index"
   ]
  },
  {
   "cell_type": "code",
   "execution_count": 1,
   "id": "5a50c7bd",
   "metadata": {},
   "outputs": [],
   "source": [
    "import numpy as np\n",
    "import pandas as pd\n",
    "import seaborn as sns\n",
    "import matplotlib.pyplot as plt\n",
    "import json\n",
    "import itertools\n",
    "from rdkit import Chem\n",
    "from rdkit.Chem import AllChem\n",
    "from sklearn.decomposition import PCA\n",
    "\n",
    "from sklearn.linear_model import LinearRegression\n",
    "from sklearn.tree import DecisionTreeRegressor\n",
    "from sklearn.ensemble import RandomForestRegressor\n",
    "from sklearn.ensemble import GradientBoostingRegressor\n",
    "from sklearn.svm import SVR\n",
    "from sklearn.linear_model import Ridge\n",
    "from sklearn.linear_model import Lasso\n",
    "from sklearn.linear_model import ElasticNet\n",
    "from sklearn.model_selection import KFold, cross_val_score\n",
    "from sklearn.cluster import KMeans\n",
    "from sklearn.multioutput import MultiOutputRegressor\n",
    "\n",
    "model_list = pd.Series(range(1, 8))\n",
    "model_list[0] =  LinearRegression()\n",
    "model_list[1] =  DecisionTreeRegressor()\n",
    "model_list[2] =  RandomForestRegressor()\n",
    "model_list[3] =  GradientBoostingRegressor()\n",
    "model_list[4] =  SVR()\n",
    "model_list[5] =  Ridge()\n",
    "model_list[6] =  Lasso()\n",
    "model_list[7] =  ElasticNet()"
   ]
  },
  {
   "cell_type": "markdown",
   "id": "3baa22a6",
   "metadata": {},
   "source": [
    "### read in data for gene expression"
   ]
  },
  {
   "cell_type": "code",
   "execution_count": 2,
   "id": "a2b8e68d",
   "metadata": {},
   "outputs": [],
   "source": [
    "da = pd.read_parquet('data/de_train.parquet')\n",
    "submission = pd.read_csv('data/sample_submission.csv') #  提交\n",
    "drug_smile = np.unique(da.SMILES)\n",
    "y = da.iloc[:,5:]\n",
    "gene_list = y.columns\n",
    "Y = y.T"
   ]
  },
  {
   "cell_type": "code",
   "execution_count": 3,
   "id": "c903c919",
   "metadata": {},
   "outputs": [
    {
     "name": "stderr",
     "output_type": "stream",
     "text": [
      "d:\\py\\Anaconda3\\lib\\site-packages\\sklearn\\cluster\\_kmeans.py:1416: FutureWarning: The default value of `n_init` will change from 10 to 'auto' in 1.4. Set the value of `n_init` explicitly to suppress the warning\n",
      "  super()._check_params_vs_input(X, default_n_init=10)\n"
     ]
    }
   ],
   "source": [
    "kmeans = KMeans(n_clusters=5, random_state=0)  # K =5 from elbow plot\n",
    "kmeans.fit(Y) \n",
    "len_y = pd.Series(range(1, 5))\n",
    "\n",
    "cluster_info = kmeans.labels_\n",
    "\n",
    "clusters = {}\n",
    "for i, label in enumerate(kmeans.labels_):\n",
    "    if label not in clusters:\n",
    "        clusters[label] = []\n",
    "    clusters[label].append(Y.index[i])\n",
    "    \n",
    "y_0 = y.loc[:,clusters[0]]\n",
    "y_1 = y.loc[:,clusters[1]]\n",
    "y_2 = y.loc[:,clusters[2]]\n",
    "y_3 = y.loc[:,clusters[3]]\n",
    "y_4 = y.loc[:,clusters[4]]"
   ]
  },
  {
   "cell_type": "markdown",
   "id": "dbd16ccd",
   "metadata": {},
   "source": [
    "### read in features: case-250"
   ]
  },
  {
   "cell_type": "code",
   "execution_count": 5,
   "id": "aa6cf526",
   "metadata": {},
   "outputs": [],
   "source": [
    "attention_train = pd.read_csv('feature test/All_fea_train_250.csv')\n",
    "attention_test = pd.read_csv('feature test/All_fea_test_250.csv')"
   ]
  },
  {
   "cell_type": "markdown",
   "id": "7373c71d",
   "metadata": {},
   "source": [
    "### prediction"
   ]
  },
  {
   "cell_type": "code",
   "execution_count": 8,
   "id": "ab4ba10f",
   "metadata": {},
   "outputs": [],
   "source": [
    "def pca_train_test(compomenets = 10, y_train = y_0, model_index = 2, X_train = attention_train, X_test = attention_test):\n",
    "    \n",
    "    pca_y = PCA(n_components = compomenets)\n",
    "    y_train_pca = pca_y.fit_transform(y_train)\n",
    "    \n",
    "    model = MultiOutputRegressor(model_list[model_index])\n",
    "    model.fit(X_train, y_train_pca)\n",
    "    \n",
    "    y_test_pca_pred = model.predict(X_test)\n",
    "    y_test_pred = pca_y.inverse_transform(y_test_pca_pred)\n",
    "    \n",
    "    return(y_test_pred)\n"
   ]
  },
  {
   "cell_type": "code",
   "execution_count": 9,
   "id": "6353341d",
   "metadata": {},
   "outputs": [
    {
     "name": "stdout",
     "output_type": "stream",
     "text": [
      "0\n",
      "1\n",
      "2\n",
      "3\n",
      "4\n"
     ]
    }
   ],
   "source": [
    "y_test_0 = pca_train_test()\n",
    "print(0)\n",
    "y_test_1 = pca_train_test(y_train = y_1)\n",
    "print(1)\n",
    "y_test_2 = pca_train_test(y_train = y_2)\n",
    "print(2)\n",
    "y_test_3 = pca_train_test(y_train = y_3)\n",
    "print(3)\n",
    "y_test_4 = pca_train_test(y_train = y_4)\n",
    "print(4)"
   ]
  },
  {
   "cell_type": "code",
   "execution_count": 10,
   "id": "50a7414d",
   "metadata": {},
   "outputs": [
    {
     "name": "stdout",
     "output_type": "stream",
     "text": [
      "write in\n"
     ]
    }
   ],
   "source": [
    "df_zeros = pd.DataFrame(0, index=range(255), columns=range(18211))\n",
    "df_zeros.columns = gene_list\n",
    "for i in range(5):\n",
    "    df_zeros[clusters[i]] = eval(f'y_test_{i}')\n",
    "print(\"write in\")\n",
    "submission.iloc[:, 1:] = df_zeros\n",
    "submission.to_csv('feature test/All_250_df.csv', index=False)"
   ]
  },
  {
   "cell_type": "markdown",
   "id": "8d35f3a2",
   "metadata": {},
   "source": [
    "### read in features: case-500"
   ]
  },
  {
   "cell_type": "code",
   "execution_count": 11,
   "id": "5cf41e56",
   "metadata": {},
   "outputs": [],
   "source": [
    "attention_train = pd.read_csv('feature test/All_fea_train_500.csv')\n",
    "attention_test = pd.read_csv('feature test/All_fea_test_500.csv')\n",
    "\n",
    "def pca_train_test(compomenets = 10, y_train = y_0, model_index = 2, X_train = attention_train, X_test = attention_test):\n",
    "    \n",
    "    pca_y = PCA(n_components = compomenets)\n",
    "    y_train_pca = pca_y.fit_transform(y_train)\n",
    "    \n",
    "    model = MultiOutputRegressor(model_list[model_index])\n",
    "    model.fit(X_train, y_train_pca)\n",
    "    \n",
    "    y_test_pca_pred = model.predict(X_test)\n",
    "    y_test_pred = pca_y.inverse_transform(y_test_pca_pred)\n",
    "    \n",
    "    return(y_test_pred)"
   ]
  },
  {
   "cell_type": "code",
   "execution_count": 12,
   "id": "087e52b4",
   "metadata": {},
   "outputs": [
    {
     "name": "stdout",
     "output_type": "stream",
     "text": [
      "0\n",
      "1\n",
      "2\n",
      "3\n",
      "4\n"
     ]
    }
   ],
   "source": [
    "y_test_0 = pca_train_test()\n",
    "print(0)\n",
    "y_test_1 = pca_train_test(y_train = y_1)\n",
    "print(1)\n",
    "y_test_2 = pca_train_test(y_train = y_2)\n",
    "print(2)\n",
    "y_test_3 = pca_train_test(y_train = y_3)\n",
    "print(3)\n",
    "y_test_4 = pca_train_test(y_train = y_4)\n",
    "print(4)"
   ]
  },
  {
   "cell_type": "code",
   "execution_count": 13,
   "id": "827f73b1",
   "metadata": {},
   "outputs": [
    {
     "name": "stdout",
     "output_type": "stream",
     "text": [
      "write in\n"
     ]
    }
   ],
   "source": [
    "df_zeros = pd.DataFrame(0, index=range(255), columns=range(18211))\n",
    "df_zeros.columns = gene_list\n",
    "for i in range(5):\n",
    "    df_zeros[clusters[i]] = eval(f'y_test_{i}')\n",
    "print(\"write in\")\n",
    "submission.iloc[:, 1:] = df_zeros\n",
    "submission.to_csv('feature test/All_500_df.csv', index=False)"
   ]
  },
  {
   "cell_type": "markdown",
   "id": "0ef26824",
   "metadata": {},
   "source": [
    "### read in features: case-768"
   ]
  },
  {
   "cell_type": "code",
   "execution_count": 14,
   "id": "47927300",
   "metadata": {},
   "outputs": [],
   "source": [
    "attention_train = pd.read_csv('feature test/All_fea_train_768.csv')\n",
    "attention_test = pd.read_csv('feature test/All_fea_test_768.csv')\n",
    "\n",
    "def pca_train_test(compomenets = 10, y_train = y_0, model_index = 2, X_train = attention_train, X_test = attention_test):\n",
    "    \n",
    "    pca_y = PCA(n_components = compomenets)\n",
    "    y_train_pca = pca_y.fit_transform(y_train)\n",
    "    \n",
    "    model = MultiOutputRegressor(model_list[model_index])\n",
    "    model.fit(X_train, y_train_pca)\n",
    "    \n",
    "    y_test_pca_pred = model.predict(X_test)\n",
    "    y_test_pred = pca_y.inverse_transform(y_test_pca_pred)\n",
    "    \n",
    "    return(y_test_pred)"
   ]
  },
  {
   "cell_type": "code",
   "execution_count": 15,
   "id": "0acaa2b7",
   "metadata": {},
   "outputs": [
    {
     "name": "stdout",
     "output_type": "stream",
     "text": [
      "0\n",
      "1\n",
      "2\n",
      "3\n",
      "4\n"
     ]
    }
   ],
   "source": [
    "y_test_0 = pca_train_test()\n",
    "print(0)\n",
    "y_test_1 = pca_train_test(y_train = y_1)\n",
    "print(1)\n",
    "y_test_2 = pca_train_test(y_train = y_2)\n",
    "print(2)\n",
    "y_test_3 = pca_train_test(y_train = y_3)\n",
    "print(3)\n",
    "y_test_4 = pca_train_test(y_train = y_4)\n",
    "print(4)"
   ]
  },
  {
   "cell_type": "code",
   "execution_count": 16,
   "id": "4e675cfe",
   "metadata": {},
   "outputs": [
    {
     "name": "stdout",
     "output_type": "stream",
     "text": [
      "write in\n"
     ]
    }
   ],
   "source": [
    "df_zeros = pd.DataFrame(0, index=range(255), columns=range(18211))\n",
    "df_zeros.columns = gene_list\n",
    "for i in range(5):\n",
    "    df_zeros[clusters[i]] = eval(f'y_test_{i}')\n",
    "print(\"write in\")\n",
    "submission.iloc[:, 1:] = df_zeros\n",
    "submission.to_csv('feature test/All_768_df.csv', index=False)"
   ]
  },
  {
   "cell_type": "markdown",
   "id": "9432dedd",
   "metadata": {},
   "source": [
    "### read data all -1000"
   ]
  },
  {
   "cell_type": "code",
   "execution_count": 4,
   "id": "ff5e2e00",
   "metadata": {},
   "outputs": [],
   "source": [
    "attention_train = pd.read_csv('feature test/All_fea_train_1000.csv')\n",
    "attention_test = pd.read_csv('feature test/All_fea_test_1000.csv')\n",
    "\n",
    "def pca_train_test(compomenets = 10, y_train = y_0, model_index = 2, X_train = attention_train, X_test = attention_test):\n",
    "    \n",
    "    pca_y = PCA(n_components = compomenets)\n",
    "    y_train_pca = pca_y.fit_transform(y_train)\n",
    "    \n",
    "    model = MultiOutputRegressor(model_list[model_index])\n",
    "    model.fit(X_train, y_train_pca)\n",
    "    \n",
    "    y_test_pca_pred = model.predict(X_test)\n",
    "    y_test_pred = pca_y.inverse_transform(y_test_pca_pred)\n",
    "    \n",
    "    return(y_test_pred)"
   ]
  },
  {
   "cell_type": "code",
   "execution_count": 5,
   "id": "0833869f",
   "metadata": {},
   "outputs": [
    {
     "name": "stdout",
     "output_type": "stream",
     "text": [
      "0\n",
      "1\n",
      "2\n",
      "3\n",
      "4\n"
     ]
    }
   ],
   "source": [
    "y_test_0 = pca_train_test()\n",
    "print(0)\n",
    "y_test_1 = pca_train_test(y_train = y_1)\n",
    "print(1)\n",
    "y_test_2 = pca_train_test(y_train = y_2)\n",
    "print(2)\n",
    "y_test_3 = pca_train_test(y_train = y_3)\n",
    "print(3)\n",
    "y_test_4 = pca_train_test(y_train = y_4)\n",
    "print(4)"
   ]
  },
  {
   "cell_type": "code",
   "execution_count": 6,
   "id": "11f838b7",
   "metadata": {},
   "outputs": [
    {
     "name": "stdout",
     "output_type": "stream",
     "text": [
      "write in\n"
     ]
    }
   ],
   "source": [
    "df_zeros = pd.DataFrame(0, index=range(255), columns=range(18211))\n",
    "df_zeros.columns = gene_list\n",
    "for i in range(5):\n",
    "    df_zeros[clusters[i]] = eval(f'y_test_{i}')\n",
    "print(\"write in\")\n",
    "submission.iloc[:, 1:] = df_zeros\n",
    "submission.to_csv('feature test/All_1000_df.csv', index=False)"
   ]
  },
  {
   "cell_type": "markdown",
   "id": "18165577",
   "metadata": {},
   "source": [
    "### half-250"
   ]
  },
  {
   "cell_type": "code",
   "execution_count": 4,
   "id": "ba632ea3",
   "metadata": {},
   "outputs": [],
   "source": [
    "attention_train = pd.read_csv('feature test/Half_fea_train_250.csv')\n",
    "attention_test = pd.read_csv('feature test/Half_fea_test_250.csv')\n",
    "\n",
    "def pca_train_test(compomenets = 10, y_train = y_0, model_index = 2, X_train = attention_train, X_test = attention_test):\n",
    "    \n",
    "    pca_y = PCA(n_components = compomenets)\n",
    "    y_train_pca = pca_y.fit_transform(y_train)\n",
    "    \n",
    "    model = MultiOutputRegressor(model_list[model_index])\n",
    "    model.fit(X_train, y_train_pca)\n",
    "    \n",
    "    y_test_pca_pred = model.predict(X_test)\n",
    "    y_test_pred = pca_y.inverse_transform(y_test_pca_pred)\n",
    "    \n",
    "    return(y_test_pred)"
   ]
  },
  {
   "cell_type": "code",
   "execution_count": 5,
   "id": "c87a37da",
   "metadata": {},
   "outputs": [
    {
     "name": "stdout",
     "output_type": "stream",
     "text": [
      "0\n",
      "1\n",
      "2\n",
      "3\n",
      "4\n"
     ]
    }
   ],
   "source": [
    "y_test_0 = pca_train_test()\n",
    "print(0)\n",
    "y_test_1 = pca_train_test(y_train = y_1)\n",
    "print(1)\n",
    "y_test_2 = pca_train_test(y_train = y_2)\n",
    "print(2)\n",
    "y_test_3 = pca_train_test(y_train = y_3)\n",
    "print(3)\n",
    "y_test_4 = pca_train_test(y_train = y_4)\n",
    "print(4)"
   ]
  },
  {
   "cell_type": "code",
   "execution_count": 6,
   "id": "6feb7646",
   "metadata": {},
   "outputs": [
    {
     "name": "stdout",
     "output_type": "stream",
     "text": [
      "write in\n"
     ]
    }
   ],
   "source": [
    "df_zeros = pd.DataFrame(0, index=range(255), columns=range(18211))\n",
    "df_zeros.columns = gene_list\n",
    "for i in range(5):\n",
    "    df_zeros[clusters[i]] = eval(f'y_test_{i}')\n",
    "print(\"write in\")\n",
    "submission.iloc[:, 1:] = df_zeros\n",
    "submission.to_csv('feature test/Half_250_df.csv', index=False)"
   ]
  },
  {
   "cell_type": "markdown",
   "id": "7f5bbaea",
   "metadata": {},
   "source": [
    "### half-500"
   ]
  },
  {
   "cell_type": "code",
   "execution_count": 7,
   "id": "6d37a13b",
   "metadata": {},
   "outputs": [],
   "source": [
    "attention_train = pd.read_csv('feature test/Half_fea_train_500.csv')\n",
    "attention_test = pd.read_csv('feature test/Half_fea_test_500.csv')\n",
    "\n",
    "def pca_train_test(compomenets = 10, y_train = y_0, model_index = 2, X_train = attention_train, X_test = attention_test):\n",
    "    \n",
    "    pca_y = PCA(n_components = compomenets)\n",
    "    y_train_pca = pca_y.fit_transform(y_train)\n",
    "    \n",
    "    model = MultiOutputRegressor(model_list[model_index])\n",
    "    model.fit(X_train, y_train_pca)\n",
    "    \n",
    "    y_test_pca_pred = model.predict(X_test)\n",
    "    y_test_pred = pca_y.inverse_transform(y_test_pca_pred)\n",
    "    \n",
    "    return(y_test_pred)"
   ]
  },
  {
   "cell_type": "code",
   "execution_count": 8,
   "id": "c7aa9de1",
   "metadata": {},
   "outputs": [
    {
     "name": "stdout",
     "output_type": "stream",
     "text": [
      "0\n",
      "1\n",
      "2\n",
      "3\n",
      "4\n"
     ]
    }
   ],
   "source": [
    "y_test_0 = pca_train_test()\n",
    "print(0)\n",
    "y_test_1 = pca_train_test(y_train = y_1)\n",
    "print(1)\n",
    "y_test_2 = pca_train_test(y_train = y_2)\n",
    "print(2)\n",
    "y_test_3 = pca_train_test(y_train = y_3)\n",
    "print(3)\n",
    "y_test_4 = pca_train_test(y_train = y_4)\n",
    "print(4)"
   ]
  },
  {
   "cell_type": "code",
   "execution_count": 9,
   "id": "37a67c0f",
   "metadata": {},
   "outputs": [
    {
     "name": "stdout",
     "output_type": "stream",
     "text": [
      "write in\n"
     ]
    }
   ],
   "source": [
    "df_zeros = pd.DataFrame(0, index=range(255), columns=range(18211))\n",
    "df_zeros.columns = gene_list\n",
    "for i in range(5):\n",
    "    df_zeros[clusters[i]] = eval(f'y_test_{i}')\n",
    "print(\"write in\")\n",
    "submission.iloc[:, 1:] = df_zeros\n",
    "submission.to_csv('feature test/Half_500_df.csv', index=False)"
   ]
  },
  {
   "cell_type": "markdown",
   "id": "f032d6cb",
   "metadata": {},
   "source": [
    "### half 768"
   ]
  },
  {
   "cell_type": "code",
   "execution_count": 10,
   "id": "5a54c393",
   "metadata": {},
   "outputs": [],
   "source": [
    "attention_train = pd.read_csv('feature test/Half_fea_train_768.csv')\n",
    "attention_test = pd.read_csv('feature test/Half_fea_test_768.csv')\n",
    "\n",
    "def pca_train_test(compomenets = 10, y_train = y_0, model_index = 2, X_train = attention_train, X_test = attention_test):\n",
    "    \n",
    "    pca_y = PCA(n_components = compomenets)\n",
    "    y_train_pca = pca_y.fit_transform(y_train)\n",
    "    \n",
    "    model = MultiOutputRegressor(model_list[model_index])\n",
    "    model.fit(X_train, y_train_pca)\n",
    "    \n",
    "    y_test_pca_pred = model.predict(X_test)\n",
    "    y_test_pred = pca_y.inverse_transform(y_test_pca_pred)\n",
    "    \n",
    "    return(y_test_pred)"
   ]
  },
  {
   "cell_type": "code",
   "execution_count": 11,
   "id": "2f30b2e1",
   "metadata": {},
   "outputs": [
    {
     "name": "stdout",
     "output_type": "stream",
     "text": [
      "0\n",
      "1\n",
      "2\n",
      "3\n",
      "4\n"
     ]
    }
   ],
   "source": [
    "y_test_0 = pca_train_test()\n",
    "print(0)\n",
    "y_test_1 = pca_train_test(y_train = y_1)\n",
    "print(1)\n",
    "y_test_2 = pca_train_test(y_train = y_2)\n",
    "print(2)\n",
    "y_test_3 = pca_train_test(y_train = y_3)\n",
    "print(3)\n",
    "y_test_4 = pca_train_test(y_train = y_4)\n",
    "print(4)"
   ]
  },
  {
   "cell_type": "code",
   "execution_count": 12,
   "id": "7d1fb9d4",
   "metadata": {},
   "outputs": [
    {
     "name": "stdout",
     "output_type": "stream",
     "text": [
      "write in\n"
     ]
    }
   ],
   "source": [
    "df_zeros = pd.DataFrame(0, index=range(255), columns=range(18211))\n",
    "df_zeros.columns = gene_list\n",
    "for i in range(5):\n",
    "    df_zeros[clusters[i]] = eval(f'y_test_{i}')\n",
    "print(\"write in\")\n",
    "submission.iloc[:, 1:] = df_zeros\n",
    "submission.to_csv('feature test/Half_768_df.csv', index=False)"
   ]
  },
  {
   "cell_type": "markdown",
   "id": "e14c92fa",
   "metadata": {},
   "source": [
    "### half 1000"
   ]
  },
  {
   "cell_type": "code",
   "execution_count": 4,
   "id": "c7f1a9f6",
   "metadata": {},
   "outputs": [],
   "source": [
    "attention_train = pd.read_csv('feature test/Half_fea_train_1000.csv')\n",
    "attention_test = pd.read_csv('feature test/Half_fea_test_1000.csv')\n",
    "\n",
    "def pca_train_test(compomenets = 10, y_train = y_0, model_index = 2, X_train = attention_train, X_test = attention_test):\n",
    "    \n",
    "    pca_y = PCA(n_components = compomenets)\n",
    "    y_train_pca = pca_y.fit_transform(y_train)\n",
    "    \n",
    "    model = MultiOutputRegressor(model_list[model_index])\n",
    "    model.fit(X_train, y_train_pca)\n",
    "    \n",
    "    y_test_pca_pred = model.predict(X_test)\n",
    "    y_test_pred = pca_y.inverse_transform(y_test_pca_pred)\n",
    "    \n",
    "    return(y_test_pred)"
   ]
  },
  {
   "cell_type": "code",
   "execution_count": 5,
   "id": "66630d2a",
   "metadata": {},
   "outputs": [
    {
     "name": "stdout",
     "output_type": "stream",
     "text": [
      "0\n",
      "1\n",
      "2\n",
      "3\n",
      "4\n"
     ]
    }
   ],
   "source": [
    "y_test_0 = pca_train_test()\n",
    "print(0)\n",
    "y_test_1 = pca_train_test(y_train = y_1)\n",
    "print(1)\n",
    "y_test_2 = pca_train_test(y_train = y_2)\n",
    "print(2)\n",
    "y_test_3 = pca_train_test(y_train = y_3)\n",
    "print(3)\n",
    "y_test_4 = pca_train_test(y_train = y_4)\n",
    "print(4)"
   ]
  },
  {
   "cell_type": "code",
   "execution_count": 6,
   "id": "0371aa66",
   "metadata": {},
   "outputs": [
    {
     "name": "stdout",
     "output_type": "stream",
     "text": [
      "write in\n"
     ]
    }
   ],
   "source": [
    "df_zeros = pd.DataFrame(0, index=range(255), columns=range(18211))\n",
    "df_zeros.columns = gene_list\n",
    "for i in range(5):\n",
    "    df_zeros[clusters[i]] = eval(f'y_test_{i}')\n",
    "print(\"write in\")\n",
    "submission.iloc[:, 1:] = df_zeros\n",
    "submission.to_csv('feature test/Half_1000_df.csv', index=False)"
   ]
  },
  {
   "cell_type": "code",
   "execution_count": null,
   "id": "7c9c05fd",
   "metadata": {},
   "outputs": [],
   "source": []
  }
 ],
 "metadata": {
  "kernelspec": {
   "display_name": "Python 3 (ipykernel)",
   "language": "python",
   "name": "python3"
  },
  "language_info": {
   "codemirror_mode": {
    "name": "ipython",
    "version": 3
   },
   "file_extension": ".py",
   "mimetype": "text/x-python",
   "name": "python",
   "nbconvert_exporter": "python",
   "pygments_lexer": "ipython3",
   "version": "3.9.18"
  }
 },
 "nbformat": 4,
 "nbformat_minor": 5
}
