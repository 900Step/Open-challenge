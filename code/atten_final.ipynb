{
 "cells": [
  {
   "cell_type": "markdown",
   "id": "f297bc39",
   "metadata": {},
   "source": [
    "image feature"
   ]
  },
  {
   "cell_type": "code",
   "execution_count": 1,
   "id": "0bbbc4cc",
   "metadata": {},
   "outputs": [
    {
     "name": "stdout",
     "output_type": "stream",
     "text": [
      "(614, 197, 768)\n"
     ]
    }
   ],
   "source": [
    "import h5py\n",
    "import numpy as np\n",
    "\n",
    "with h5py.File('image_features.h5', 'r') as hf:\n",
    "    image_features = hf['image_features'][:]  # 使用[:]来加载数据到内存中\n",
    "\n",
    "# 现在 image_features 是一个NumPy数组，你可以像处理任何NumPy数组一样处理它\n",
    "print(image_features.shape)"
   ]
  },
  {
   "cell_type": "code",
   "execution_count": 2,
   "id": "e397d706",
   "metadata": {},
   "outputs": [
    {
     "name": "stdout",
     "output_type": "stream",
     "text": [
      "Shape of image_features: (614, 197, 768)\n",
      "Shape of image_features: torch.Size([614, 768])\n"
     ]
    }
   ],
   "source": [
    "import torch\n",
    "import torch.nn.functional as F\n",
    "\n",
    "\n",
    "print(\"Shape of image_features:\", image_features.shape)\n",
    "\n",
    "# If it's a NumPy array, use np.transpose\n",
    "image_features_transposed = np.transpose(image_features, (0, 2, 1))\n",
    "\n",
    "# Convert the transposed array to a torch tensor\n",
    "image_features_tensor = torch.tensor(image_features_transposed)\n",
    "\n",
    "# Apply max pooling\n",
    "max_pooled_features = F.max_pool1d(image_features_tensor, kernel_size=197)\n",
    "\n",
    "# Squeeze the last dimension\n",
    "max_pooled_features = max_pooled_features.squeeze(-1)\n",
    "print(\"Shape of image_features:\", max_pooled_features.shape)"
   ]
  },
  {
   "cell_type": "markdown",
   "id": "30f0941d",
   "metadata": {},
   "source": [
    "string feature"
   ]
  },
  {
   "cell_type": "code",
   "execution_count": 3,
   "id": "142405c3",
   "metadata": {},
   "outputs": [
    {
     "name": "stdout",
     "output_type": "stream",
     "text": [
      "torch.Size([614, 768])\n"
     ]
    }
   ],
   "source": [
    "import pandas as pd\n",
    "string_features = pd.read_csv('string_features.csv')\n",
    "string_features_np = string_features.values\n",
    "string_features_tensor = torch.tensor(string_features_np, dtype=torch.float32)\n",
    "print(string_features_tensor.shape)"
   ]
  },
  {
   "cell_type": "code",
   "execution_count": null,
   "id": "dffc984d",
   "metadata": {},
   "outputs": [],
   "source": []
  },
  {
   "cell_type": "code",
   "execution_count": 4,
   "id": "e33d9650",
   "metadata": {},
   "outputs": [],
   "source": [
    "import torch\n",
    "import torch.nn as nn\n",
    "import torch.nn.functional as F\n",
    "\n",
    "class BasicAttention(nn.Module):\n",
    "    def __init__(self, feature_dim, attention_dim):\n",
    "        super(BasicAttention, self).__init__()\n",
    "        self.query = nn.Linear(feature_dim, attention_dim)\n",
    "        self.key = nn.Linear(feature_dim, attention_dim)\n",
    "        self.value = nn.Linear(feature_dim, attention_dim)\n",
    "\n",
    "    def forward(self, features1, features2):\n",
    "        # features1 和 features2 形状均为 [614, 768]\n",
    "        query = self.query(features1)  # [614, attention_dim]\n",
    "        key = self.key(features2)      # [614, attention_dim]\n",
    "        value = self.value(features2)  # [614, attention_dim]\n",
    "\n",
    "        # 计算注意力权重\n",
    "        attention_weights = F.softmax(torch.matmul(query, key.transpose(-2, -1)), dim=-1) # [614, 614]\n",
    "\n",
    "        # 应用注意力权重\n",
    "        attended_features = torch.matmul(attention_weights, value) # [614, attention_dim]\n",
    "\n",
    "        return attended_features\n",
    "\n",
    "########## 创建注意力模块的实例\n",
    "attention_dim = 500  # 可以调整这个维度\n",
    "attention_module = BasicAttention(768, attention_dim)\n",
    "\n",
    "max_pooled_features = max_pooled_features.to(torch.float32)\n",
    "string_features_tensor = string_features_tensor.to(torch.float32)\n",
    "\n",
    "fused_features = attention_module(max_pooled_features, string_features_tensor)\n",
    "\n"
   ]
  },
  {
   "cell_type": "code",
   "execution_count": 9,
   "id": "816a613c",
   "metadata": {},
   "outputs": [],
   "source": [
    "fused_features_np = fused_features.detach().numpy()\n",
    "\n",
    "# 将 NumPy 数组转换为 pandas DataFrame\n",
    "fused_features_df = pd.DataFrame(fused_features_np)\n",
    "\n",
    "# 保存 DataFrame 为 CSV 文件\n",
    "fused_features_df.to_csv('Att_fea_train_500_1.csv', index=False)"
   ]
  },
  {
   "cell_type": "code",
   "execution_count": 10,
   "id": "2e4270e9",
   "metadata": {},
   "outputs": [
    {
     "data": {
      "text/plain": [
       "(614, 500)"
      ]
     },
     "execution_count": 10,
     "metadata": {},
     "output_type": "execute_result"
    }
   ],
   "source": [
    "fused_features_df.shape"
   ]
  },
  {
   "cell_type": "markdown",
   "id": "b9226a6f",
   "metadata": {},
   "source": [
    "test feature"
   ]
  },
  {
   "cell_type": "code",
   "execution_count": 5,
   "id": "88176cd4",
   "metadata": {},
   "outputs": [
    {
     "name": "stdout",
     "output_type": "stream",
     "text": [
      "(255, 197, 768)\n"
     ]
    },
    {
     "data": {
      "text/plain": [
       "torch.Size([255, 768])"
      ]
     },
     "execution_count": 5,
     "metadata": {},
     "output_type": "execute_result"
    }
   ],
   "source": [
    "import h5py\n",
    "import numpy as np\n",
    "\n",
    "with h5py.File('test_image_features.h5', 'r') as hf:\n",
    "    test_image_features = hf['test_image_features'][:]  # 使用[:]来加载数据到内存中\n",
    "\n",
    "# 现在 image_features 是一个NumPy数组，你可以像处理任何NumPy数组一样处理它\n",
    "print(test_image_features.shape)\n",
    "import torch\n",
    "import torch.nn.functional as F\n",
    "\n",
    "# If it's a NumPy array, use np.transpose\n",
    "test_image_features_transposed = np.transpose(test_image_features, (0, 2, 1))\n",
    "\n",
    "# Convert the transposed array to a torch tensor\n",
    "test_image_features_tensor = torch.tensor(test_image_features_transposed)\n",
    "\n",
    "# Apply max pooling\n",
    "test_max_pooled_features = F.max_pool1d(test_image_features_tensor, kernel_size=197)\n",
    "\n",
    "# Squeeze the last dimension\n",
    "test_max_pooled_features = test_max_pooled_features.squeeze(-1)\n",
    "test_max_pooled_features.shape"
   ]
  },
  {
   "cell_type": "code",
   "execution_count": 6,
   "id": "8d94efa0",
   "metadata": {},
   "outputs": [],
   "source": [
    "import pandas as pd\n",
    "test_string_features = pd.read_csv('test_string_features.csv')\n",
    "test_string_features_np = test_string_features.values\n",
    "test_string_features_tensor = torch.tensor(test_string_features_np, dtype=torch.float32)"
   ]
  },
  {
   "cell_type": "code",
   "execution_count": 7,
   "id": "64b43cb7",
   "metadata": {},
   "outputs": [
    {
     "data": {
      "text/plain": [
       "torch.Size([255, 500])"
      ]
     },
     "execution_count": 7,
     "metadata": {},
     "output_type": "execute_result"
    }
   ],
   "source": [
    "test_max_pooled_features = test_max_pooled_features.to(torch.float32)\n",
    "test_string_features_tensor = test_string_features_tensor.to(torch.float32)\n",
    "test_fused_features = attention_module(test_max_pooled_features, test_string_features_tensor)\n",
    "test_fused_features.shape"
   ]
  },
  {
   "cell_type": "code",
   "execution_count": 8,
   "id": "ad4db004",
   "metadata": {},
   "outputs": [],
   "source": [
    "test_fused_features_np = test_fused_features.detach().numpy()\n",
    "test_fused_features_df = pd.DataFrame(test_fused_features_np)\n",
    "test_fused_features_df.to_csv('Att_fea_test_500_1.csv', index=False)"
   ]
  }
 ],
 "metadata": {
  "kernelspec": {
   "display_name": "Python 3 (ipykernel)",
   "language": "python",
   "name": "python3"
  },
  "language_info": {
   "codemirror_mode": {
    "name": "ipython",
    "version": 3
   },
   "file_extension": ".py",
   "mimetype": "text/x-python",
   "name": "python",
   "nbconvert_exporter": "python",
   "pygments_lexer": "ipython3",
   "version": "3.9.18"
  }
 },
 "nbformat": 4,
 "nbformat_minor": 5
}
