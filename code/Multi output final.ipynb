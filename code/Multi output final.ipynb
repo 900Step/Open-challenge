{
 "cells": [
  {
   "cell_type": "code",
   "execution_count": 1,
   "id": "850d8b0f",
   "metadata": {},
   "outputs": [],
   "source": [
    "import numpy as np\n",
    "import pandas as pd\n",
    "import seaborn as sns\n",
    "import matplotlib.pyplot as plt\n",
    "import json\n",
    "import itertools\n",
    "from rdkit import Chem\n",
    "from rdkit.Chem import AllChem\n",
    "from sklearn.decomposition import PCA\n",
    "\n",
    "from sklearn.linear_model import LinearRegression\n",
    "from sklearn.tree import DecisionTreeRegressor\n",
    "from sklearn.ensemble import RandomForestRegressor\n",
    "from sklearn.ensemble import GradientBoostingRegressor\n",
    "from sklearn.svm import SVR\n",
    "from sklearn.linear_model import Ridge\n",
    "from sklearn.linear_model import Lasso\n",
    "from sklearn.linear_model import ElasticNet\n",
    "from sklearn.model_selection import KFold, cross_val_score\n",
    "from sklearn.cluster import KMeans\n",
    "from sklearn.multioutput import MultiOutputRegressor\n",
    "\n",
    "model_list = pd.Series(range(1, 8))\n",
    "model_list[0] =  LinearRegression()\n",
    "model_list[1] =  DecisionTreeRegressor()\n",
    "model_list[2] =  RandomForestRegressor()\n",
    "model_list[3] =  GradientBoostingRegressor()\n",
    "model_list[4] =  SVR()\n",
    "model_list[5] =  Ridge()\n",
    "model_list[6] =  Lasso()\n",
    "model_list[7] =  ElasticNet()"
   ]
  },
  {
   "cell_type": "code",
   "execution_count": 2,
   "id": "86676152",
   "metadata": {},
   "outputs": [
    {
     "name": "stderr",
     "output_type": "stream",
     "text": [
      "d:\\py\\Anaconda3\\lib\\site-packages\\sklearn\\cluster\\_kmeans.py:1416: FutureWarning: The default value of `n_init` will change from 10 to 'auto' in 1.4. Set the value of `n_init` explicitly to suppress the warning\n",
      "  super()._check_params_vs_input(X, default_n_init=10)\n"
     ]
    }
   ],
   "source": [
    "da = pd.read_parquet('data/de_train.parquet')\n",
    "submission = pd.read_csv('data/sample_submission.csv') #  提交\n",
    "drug_smile = np.unique(da.SMILES)\n",
    "y = da.iloc[:,5:]\n",
    "gene_list = y.columns\n",
    "Y = y.T\n",
    "\n",
    "kmeans = KMeans(n_clusters=5, random_state=0)  # K =5 from elbow plot\n",
    "kmeans.fit(Y) \n",
    "len_y = pd.Series(range(1, 5))\n",
    "\n",
    "cluster_info = kmeans.labels_\n",
    "\n",
    "clusters = {}\n",
    "for i, label in enumerate(kmeans.labels_):\n",
    "    if label not in clusters:\n",
    "        clusters[label] = []\n",
    "    clusters[label].append(Y.index[i])\n",
    "    \n",
    "y_0 = y.loc[:,clusters[0]]\n",
    "y_1 = y.loc[:,clusters[1]]\n",
    "y_2 = y.loc[:,clusters[2]]\n",
    "y_3 = y.loc[:,clusters[3]]\n",
    "y_4 = y.loc[:,clusters[4]]"
   ]
  },
  {
   "cell_type": "code",
   "execution_count": 12,
   "id": "52f7bbb0",
   "metadata": {},
   "outputs": [],
   "source": [
    "attention_train = pd.read_csv('feature test/Half_fea_train_500.csv')\n",
    "attention_test = pd.read_csv('feature test/Half_fea_test_500.csv')\n",
    "\n",
    "def pca_train_test(compomenets = 10, y_train = y_0, model_index = 7, X_train = attention_train, X_test = attention_test):\n",
    "    \n",
    "    pca_y = PCA(n_components = compomenets)\n",
    "    y_train_pca = pca_y.fit_transform(y_train)\n",
    "    \n",
    "    model = MultiOutputRegressor(model_list[model_index])\n",
    "    model.fit(X_train, y_train_pca)\n",
    "    \n",
    "    y_test_pca_pred = model.predict(X_test)\n",
    "    y_test_pred = pca_y.inverse_transform(y_test_pca_pred)\n",
    "    \n",
    "    return(y_test_pred)"
   ]
  },
  {
   "cell_type": "code",
   "execution_count": 13,
   "id": "27e09ebb",
   "metadata": {},
   "outputs": [
    {
     "name": "stdout",
     "output_type": "stream",
     "text": [
      "0\n",
      "1\n",
      "2\n",
      "3\n",
      "4\n"
     ]
    }
   ],
   "source": [
    "y_test_0 = pca_train_test()\n",
    "print(0)\n",
    "y_test_1 = pca_train_test(y_train = y_1)\n",
    "print(1)\n",
    "y_test_2 = pca_train_test(y_train = y_2)\n",
    "print(2)\n",
    "y_test_3 = pca_train_test(y_train = y_3)\n",
    "print(3)\n",
    "y_test_4 = pca_train_test(y_train = y_4)\n",
    "print(4)"
   ]
  },
  {
   "cell_type": "code",
   "execution_count": 14,
   "id": "556e8761",
   "metadata": {},
   "outputs": [
    {
     "name": "stdout",
     "output_type": "stream",
     "text": [
      "write in\n"
     ]
    }
   ],
   "source": [
    "df_zeros = pd.DataFrame(0, index=range(255), columns=range(18211))\n",
    "df_zeros.columns = gene_list\n",
    "for i in range(5):\n",
    "    df_zeros[clusters[i]] = eval(f'y_test_{i}')\n",
    "print(\"write in\")\n",
    "submission.iloc[:, 1:] = df_zeros\n",
    "submission.to_csv('feature test/Half_500_ElasticNet.csv', index=False)"
   ]
  },
  {
   "cell_type": "code",
   "execution_count": null,
   "id": "a31a8abc",
   "metadata": {},
   "outputs": [],
   "source": []
  }
 ],
 "metadata": {
  "kernelspec": {
   "display_name": "Python 3 (ipykernel)",
   "language": "python",
   "name": "python3"
  },
  "language_info": {
   "codemirror_mode": {
    "name": "ipython",
    "version": 3
   },
   "file_extension": ".py",
   "mimetype": "text/x-python",
   "name": "python",
   "nbconvert_exporter": "python",
   "pygments_lexer": "ipython3",
   "version": "3.9.18"
  }
 },
 "nbformat": 4,
 "nbformat_minor": 5
}
